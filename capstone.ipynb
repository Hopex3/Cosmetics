{
 "cells": [
  {
   "cell_type": "code",
   "execution_count": 1,
   "id": "363d8784-1540-41fc-8ff4-0253e6368f50",
   "metadata": {},
   "outputs": [],
   "source": [
    "import pandas as pd"
   ]
  },
  {
   "cell_type": "code",
   "execution_count": 2,
   "id": "a68490aa-ef05-4e2a-8ad3-de20aee1e959",
   "metadata": {},
   "outputs": [],
   "source": [
    "cosmetics=pd.read_csv('cosmetics.csv')"
   ]
  },
  {
   "cell_type": "code",
   "execution_count": 3,
   "id": "8aad0910-0785-4c3d-a813-89b7d5f125c9",
   "metadata": {},
   "outputs": [
    {
     "name": "stderr",
     "output_type": "stream",
     "text": [
      "C:\\Users\\epoh2\\AppData\\Local\\Temp\\ipykernel_9792\\3223388771.py:1: DtypeWarning: Columns (10) have mixed types. Specify dtype option on import or set low_memory=False.\n",
      "  cosmetics2=pd.read_csv('cosmetics2.csv')\n"
     ]
    }
   ],
   "source": [
    "cosmetics2=pd.read_csv('cosmetics2.csv')"
   ]
  },
  {
   "cell_type": "code",
   "execution_count": 4,
   "id": "64c4c363-d6b1-4f1f-9d1f-0f2574e8388a",
   "metadata": {},
   "outputs": [],
   "source": [
    "cosmetics3=pd.read_csv('cosmetics3.csv')"
   ]
  },
  {
   "cell_type": "code",
   "execution_count": 5,
   "id": "d03b9ed2-9cdd-4032-b031-a1d419d9fe33",
   "metadata": {},
   "outputs": [
    {
     "data": {
      "text/html": [
       "<div>\n",
       "<style scoped>\n",
       "    .dataframe tbody tr th:only-of-type {\n",
       "        vertical-align: middle;\n",
       "    }\n",
       "\n",
       "    .dataframe tbody tr th {\n",
       "        vertical-align: top;\n",
       "    }\n",
       "\n",
       "    .dataframe thead th {\n",
       "        text-align: right;\n",
       "    }\n",
       "</style>\n",
       "<table border=\"1\" class=\"dataframe\">\n",
       "  <thead>\n",
       "    <tr style=\"text-align: right;\">\n",
       "      <th></th>\n",
       "      <th>Product Id</th>\n",
       "      <th>Company</th>\n",
       "      <th>Brand</th>\n",
       "      <th>Product Name</th>\n",
       "      <th>Variant</th>\n",
       "      <th>Product Discontinued Date</th>\n",
       "      <th>Product Submitted Date</th>\n",
       "      <th>Ingredient Name</th>\n",
       "      <th>Function</th>\n",
       "      <th>Unit of Measure</th>\n",
       "      <th>Concentration</th>\n",
       "      <th>Ingredient Submitted Date</th>\n",
       "      <th>Ingredient Removed Date</th>\n",
       "      <th>UPC</th>\n",
       "      <th>Body Area</th>\n",
       "      <th>Product Category</th>\n",
       "      <th>Product Form</th>\n",
       "      <th>Intended Market</th>\n",
       "    </tr>\n",
       "  </thead>\n",
       "  <tbody>\n",
       "    <tr>\n",
       "      <th>0</th>\n",
       "      <td>18358</td>\n",
       "      <td>Nail Alliance - Entity</td>\n",
       "      <td>Entity Nudite</td>\n",
       "      <td>Cool Pink Nail Sculpting Powder</td>\n",
       "      <td>NaN</td>\n",
       "      <td>NaN</td>\n",
       "      <td>6/24/2019</td>\n",
       "      <td>Titanium dioxide (CI 77891) 13463-67-7 / 1317-...</td>\n",
       "      <td>NaN</td>\n",
       "      <td>mg/g</td>\n",
       "      <td>5</td>\n",
       "      <td>6/24/2019</td>\n",
       "      <td>NaN</td>\n",
       "      <td>Not Available</td>\n",
       "      <td>Nails</td>\n",
       "      <td>Artificial Nails and Related Products</td>\n",
       "      <td>Powder</td>\n",
       "      <td>Not Available</td>\n",
       "    </tr>\n",
       "  </tbody>\n",
       "</table>\n",
       "</div>"
      ],
      "text/plain": [
       "   Product Id                 Company           Brand  \\\n",
       "0       18358  Nail Alliance - Entity   Entity Nudite   \n",
       "\n",
       "                      Product Name Variant Product Discontinued Date  \\\n",
       "0  Cool Pink Nail Sculpting Powder     NaN                       NaN   \n",
       "\n",
       "  Product Submitted Date                                    Ingredient Name  \\\n",
       "0              6/24/2019  Titanium dioxide (CI 77891) 13463-67-7 / 1317-...   \n",
       "\n",
       "  Function Unit of Measure Concentration Ingredient Submitted Date  \\\n",
       "0      NaN            mg/g             5                 6/24/2019   \n",
       "\n",
       "  Ingredient Removed Date            UPC Body Area  \\\n",
       "0                     NaN  Not Available     Nails   \n",
       "\n",
       "                        Product Category Product Form Intended Market  \n",
       "0  Artificial Nails and Related Products       Powder   Not Available  "
      ]
     },
     "execution_count": 5,
     "metadata": {},
     "output_type": "execute_result"
    }
   ],
   "source": [
    "cosmetics2.head(1)"
   ]
  },
  {
   "cell_type": "code",
   "execution_count": 6,
   "id": "079bfb98-14ee-422f-bef7-6303d13da5c4",
   "metadata": {},
   "outputs": [
    {
     "data": {
      "text/html": [
       "<div>\n",
       "<style scoped>\n",
       "    .dataframe tbody tr th:only-of-type {\n",
       "        vertical-align: middle;\n",
       "    }\n",
       "\n",
       "    .dataframe tbody tr th {\n",
       "        vertical-align: top;\n",
       "    }\n",
       "\n",
       "    .dataframe thead th {\n",
       "        text-align: right;\n",
       "    }\n",
       "</style>\n",
       "<table border=\"1\" class=\"dataframe\">\n",
       "  <thead>\n",
       "    <tr style=\"text-align: right;\">\n",
       "      <th></th>\n",
       "      <th>Label</th>\n",
       "      <th>Brand</th>\n",
       "      <th>Name</th>\n",
       "      <th>Price</th>\n",
       "      <th>Rank</th>\n",
       "      <th>Ingredients</th>\n",
       "      <th>Combination</th>\n",
       "      <th>Dry</th>\n",
       "      <th>Normal</th>\n",
       "      <th>Oily</th>\n",
       "      <th>Sensitive</th>\n",
       "    </tr>\n",
       "  </thead>\n",
       "  <tbody>\n",
       "    <tr>\n",
       "      <th>0</th>\n",
       "      <td>Moisturizer</td>\n",
       "      <td>LA MER</td>\n",
       "      <td>Crème de la Mer</td>\n",
       "      <td>175</td>\n",
       "      <td>4.1</td>\n",
       "      <td>Algae (Seaweed) Extract, Mineral Oil, Petrolat...</td>\n",
       "      <td>1</td>\n",
       "      <td>1</td>\n",
       "      <td>1</td>\n",
       "      <td>1</td>\n",
       "      <td>1</td>\n",
       "    </tr>\n",
       "  </tbody>\n",
       "</table>\n",
       "</div>"
      ],
      "text/plain": [
       "         Label   Brand             Name  Price  Rank  \\\n",
       "0  Moisturizer  LA MER  Crème de la Mer    175   4.1   \n",
       "\n",
       "                                         Ingredients  Combination  Dry  \\\n",
       "0  Algae (Seaweed) Extract, Mineral Oil, Petrolat...            1    1   \n",
       "\n",
       "   Normal  Oily  Sensitive  \n",
       "0       1     1          1  "
      ]
     },
     "execution_count": 6,
     "metadata": {},
     "output_type": "execute_result"
    }
   ],
   "source": [
    "cosmetics.head(1)"
   ]
  },
  {
   "cell_type": "code",
   "execution_count": 7,
   "id": "14fb2db8-4478-43f4-959f-0aba9b62a98b",
   "metadata": {},
   "outputs": [
    {
     "data": {
      "text/html": [
       "<div>\n",
       "<style scoped>\n",
       "    .dataframe tbody tr th:only-of-type {\n",
       "        vertical-align: middle;\n",
       "    }\n",
       "\n",
       "    .dataframe tbody tr th {\n",
       "        vertical-align: top;\n",
       "    }\n",
       "\n",
       "    .dataframe thead th {\n",
       "        text-align: right;\n",
       "    }\n",
       "</style>\n",
       "<table border=\"1\" class=\"dataframe\">\n",
       "  <thead>\n",
       "    <tr style=\"text-align: right;\">\n",
       "      <th></th>\n",
       "      <th>CDPHId</th>\n",
       "      <th>ProductName</th>\n",
       "      <th>CSFId</th>\n",
       "      <th>CSF</th>\n",
       "      <th>CompanyId</th>\n",
       "      <th>CompanyName</th>\n",
       "      <th>BrandName</th>\n",
       "      <th>PrimaryCategoryId</th>\n",
       "      <th>PrimaryCategory</th>\n",
       "      <th>SubCategoryId</th>\n",
       "      <th>...</th>\n",
       "      <th>CasNumber</th>\n",
       "      <th>ChemicalId</th>\n",
       "      <th>ChemicalName</th>\n",
       "      <th>InitialDateReported</th>\n",
       "      <th>MostRecentDateReported</th>\n",
       "      <th>DiscontinuedDate</th>\n",
       "      <th>ChemicalCreatedAt</th>\n",
       "      <th>ChemicalUpdatedAt</th>\n",
       "      <th>ChemicalDateRemoved</th>\n",
       "      <th>ChemicalCount</th>\n",
       "    </tr>\n",
       "  </thead>\n",
       "  <tbody>\n",
       "    <tr>\n",
       "      <th>0</th>\n",
       "      <td>2</td>\n",
       "      <td>ULTRA COLOR RICH EXTRA PLUMP LIPSTICK-ALL SHADES</td>\n",
       "      <td>NaN</td>\n",
       "      <td>NaN</td>\n",
       "      <td>4</td>\n",
       "      <td>New Avon LLC</td>\n",
       "      <td>AVON</td>\n",
       "      <td>44</td>\n",
       "      <td>Makeup Products (non-permanent)</td>\n",
       "      <td>53</td>\n",
       "      <td>...</td>\n",
       "      <td>13463-67-7</td>\n",
       "      <td>6</td>\n",
       "      <td>Titanium dioxide</td>\n",
       "      <td>06/17/2009</td>\n",
       "      <td>08/28/2013</td>\n",
       "      <td>02/01/2011</td>\n",
       "      <td>07/09/2009</td>\n",
       "      <td>07/09/2009</td>\n",
       "      <td>NaN</td>\n",
       "      <td>1</td>\n",
       "    </tr>\n",
       "  </tbody>\n",
       "</table>\n",
       "<p>1 rows × 22 columns</p>\n",
       "</div>"
      ],
      "text/plain": [
       "   CDPHId                                       ProductName  CSFId  CSF  \\\n",
       "0       2  ULTRA COLOR RICH EXTRA PLUMP LIPSTICK-ALL SHADES    NaN  NaN   \n",
       "\n",
       "   CompanyId   CompanyName BrandName  PrimaryCategoryId  \\\n",
       "0          4  New Avon LLC      AVON                 44   \n",
       "\n",
       "                   PrimaryCategory  SubCategoryId  ...   CasNumber  \\\n",
       "0  Makeup Products (non-permanent)             53  ...  13463-67-7   \n",
       "\n",
       "   ChemicalId      ChemicalName  InitialDateReported MostRecentDateReported  \\\n",
       "0           6  Titanium dioxide           06/17/2009             08/28/2013   \n",
       "\n",
       "  DiscontinuedDate ChemicalCreatedAt ChemicalUpdatedAt ChemicalDateRemoved  \\\n",
       "0       02/01/2011        07/09/2009        07/09/2009                 NaN   \n",
       "\n",
       "  ChemicalCount  \n",
       "0             1  \n",
       "\n",
       "[1 rows x 22 columns]"
      ]
     },
     "execution_count": 7,
     "metadata": {},
     "output_type": "execute_result"
    }
   ],
   "source": [
    "cosmetics3.head(1)"
   ]
  },
  {
   "cell_type": "markdown",
   "id": "a201b1ac-c369-4d14-8315-9feb2d0be229",
   "metadata": {},
   "source": [
    "Top 5 most common chemicals in cosmetics"
   ]
  },
  {
   "cell_type": "code",
   "execution_count": 48,
   "id": "4a8a7383-1284-4ffc-8b30-b1fa7206fc7a",
   "metadata": {},
   "outputs": [
    {
     "data": {
      "text/plain": [
       "ChemicalName\n",
       "Titanium dioxide                                                                                       93480\n",
       "Silica, crystalline (airborne particles of respirable size)                                             2817\n",
       "Retinol/retinyl esters, when in daily dosages in excess of 10,000 IU, or 3,000 retinol equivalents.     2154\n",
       "Mica                                                                                                    1919\n",
       "Butylated hydroxyanisole                                                                                1888\n",
       "Name: count, dtype: int64"
      ]
     },
     "execution_count": 48,
     "metadata": {},
     "output_type": "execute_result"
    }
   ],
   "source": [
    "cosmetics3['ChemicalName'].value_counts().head(5)"
   ]
  },
  {
   "cell_type": "code",
   "execution_count": 55,
   "id": "4373710d-1f4f-4eb8-858a-f76ab03dab4f",
   "metadata": {},
   "outputs": [
    {
     "data": {
      "text/plain": [
       "CompanyName\n",
       "L'Oreal USA                            5747\n",
       "S+                                     5165\n",
       "Coty                                   5162\n",
       "Revlon Consumer Product Corporation    4341\n",
       "Bare Escentuals Beauty, Inc.           3828\n",
       "                                       ... \n",
       "Hada S.A.                                 1\n",
       "LES SALONS DU PALAIS ROYAL SHISEIDO       1\n",
       "Tupperware U.S., Inc.                     1\n",
       "OSEA Malibu                               1\n",
       "Turquise Global LLC                       1\n",
       "Name: count, Length: 606, dtype: int64"
      ]
     },
     "execution_count": 55,
     "metadata": {},
     "output_type": "execute_result"
    }
   ],
   "source": [
    "cosmetics3['CompanyName'].value_counts()"
   ]
  },
  {
   "cell_type": "code",
   "execution_count": 57,
   "id": "6eb069dd-81b6-46db-9f06-8680d807e4e8",
   "metadata": {},
   "outputs": [
    {
     "data": {
      "text/html": [
       "<div>\n",
       "<style scoped>\n",
       "    .dataframe tbody tr th:only-of-type {\n",
       "        vertical-align: middle;\n",
       "    }\n",
       "\n",
       "    .dataframe tbody tr th {\n",
       "        vertical-align: top;\n",
       "    }\n",
       "\n",
       "    .dataframe thead th {\n",
       "        text-align: right;\n",
       "    }\n",
       "</style>\n",
       "<table border=\"1\" class=\"dataframe\">\n",
       "  <thead>\n",
       "    <tr style=\"text-align: right;\">\n",
       "      <th></th>\n",
       "      <th>CDPHId</th>\n",
       "      <th>ProductName</th>\n",
       "      <th>CSFId</th>\n",
       "      <th>CSF</th>\n",
       "      <th>CompanyId</th>\n",
       "      <th>CompanyName</th>\n",
       "      <th>BrandName</th>\n",
       "      <th>PrimaryCategoryId</th>\n",
       "      <th>PrimaryCategory</th>\n",
       "      <th>SubCategoryId</th>\n",
       "      <th>...</th>\n",
       "      <th>CasNumber</th>\n",
       "      <th>ChemicalId</th>\n",
       "      <th>ChemicalName</th>\n",
       "      <th>InitialDateReported</th>\n",
       "      <th>MostRecentDateReported</th>\n",
       "      <th>DiscontinuedDate</th>\n",
       "      <th>ChemicalCreatedAt</th>\n",
       "      <th>ChemicalUpdatedAt</th>\n",
       "      <th>ChemicalDateRemoved</th>\n",
       "      <th>ChemicalCount</th>\n",
       "    </tr>\n",
       "  </thead>\n",
       "  <tbody>\n",
       "    <tr>\n",
       "      <th>20062</th>\n",
       "      <td>5088</td>\n",
       "      <td>NECTAR SHINE HYDRATING CARE LIPGLOSS SPF8</td>\n",
       "      <td>11756.0</td>\n",
       "      <td>01- Gingre Shine</td>\n",
       "      <td>198</td>\n",
       "      <td>S+</td>\n",
       "      <td>Sephora</td>\n",
       "      <td>44</td>\n",
       "      <td>Makeup Products (non-permanent)</td>\n",
       "      <td>52</td>\n",
       "      <td>...</td>\n",
       "      <td>13463-67-7</td>\n",
       "      <td>8856</td>\n",
       "      <td>Titanium dioxide</td>\n",
       "      <td>10/15/2009</td>\n",
       "      <td>12/30/2010</td>\n",
       "      <td>NaN</td>\n",
       "      <td>10/15/2009</td>\n",
       "      <td>10/15/2009</td>\n",
       "      <td>NaN</td>\n",
       "      <td>1</td>\n",
       "    </tr>\n",
       "    <tr>\n",
       "      <th>20063</th>\n",
       "      <td>5088</td>\n",
       "      <td>NECTAR SHINE HYDRATING CARE LIPGLOSS SPF8</td>\n",
       "      <td>11757.0</td>\n",
       "      <td>02- Litchi Shine</td>\n",
       "      <td>198</td>\n",
       "      <td>S+</td>\n",
       "      <td>Sephora</td>\n",
       "      <td>44</td>\n",
       "      <td>Makeup Products (non-permanent)</td>\n",
       "      <td>52</td>\n",
       "      <td>...</td>\n",
       "      <td>13463-67-7</td>\n",
       "      <td>8856</td>\n",
       "      <td>Titanium dioxide</td>\n",
       "      <td>10/15/2009</td>\n",
       "      <td>12/30/2010</td>\n",
       "      <td>NaN</td>\n",
       "      <td>10/15/2009</td>\n",
       "      <td>10/15/2009</td>\n",
       "      <td>NaN</td>\n",
       "      <td>1</td>\n",
       "    </tr>\n",
       "    <tr>\n",
       "      <th>20064</th>\n",
       "      <td>5088</td>\n",
       "      <td>NECTAR SHINE HYDRATING CARE LIPGLOSS SPF8</td>\n",
       "      <td>11758.0</td>\n",
       "      <td>03- Peach Shine</td>\n",
       "      <td>198</td>\n",
       "      <td>S+</td>\n",
       "      <td>Sephora</td>\n",
       "      <td>44</td>\n",
       "      <td>Makeup Products (non-permanent)</td>\n",
       "      <td>52</td>\n",
       "      <td>...</td>\n",
       "      <td>13463-67-7</td>\n",
       "      <td>8856</td>\n",
       "      <td>Titanium dioxide</td>\n",
       "      <td>10/15/2009</td>\n",
       "      <td>12/30/2010</td>\n",
       "      <td>NaN</td>\n",
       "      <td>10/15/2009</td>\n",
       "      <td>10/15/2009</td>\n",
       "      <td>NaN</td>\n",
       "      <td>1</td>\n",
       "    </tr>\n",
       "    <tr>\n",
       "      <th>20065</th>\n",
       "      <td>5088</td>\n",
       "      <td>NECTAR SHINE HYDRATING CARE LIPGLOSS SPF8</td>\n",
       "      <td>11759.0</td>\n",
       "      <td>04 - Mango Shine</td>\n",
       "      <td>198</td>\n",
       "      <td>S+</td>\n",
       "      <td>Sephora</td>\n",
       "      <td>44</td>\n",
       "      <td>Makeup Products (non-permanent)</td>\n",
       "      <td>52</td>\n",
       "      <td>...</td>\n",
       "      <td>13463-67-7</td>\n",
       "      <td>8856</td>\n",
       "      <td>Titanium dioxide</td>\n",
       "      <td>10/15/2009</td>\n",
       "      <td>12/30/2010</td>\n",
       "      <td>NaN</td>\n",
       "      <td>10/15/2009</td>\n",
       "      <td>10/15/2009</td>\n",
       "      <td>NaN</td>\n",
       "      <td>1</td>\n",
       "    </tr>\n",
       "    <tr>\n",
       "      <th>20066</th>\n",
       "      <td>5088</td>\n",
       "      <td>NECTAR SHINE HYDRATING CARE LIPGLOSS SPF8</td>\n",
       "      <td>11760.0</td>\n",
       "      <td>05- Passion Shine</td>\n",
       "      <td>198</td>\n",
       "      <td>S+</td>\n",
       "      <td>Sephora</td>\n",
       "      <td>44</td>\n",
       "      <td>Makeup Products (non-permanent)</td>\n",
       "      <td>52</td>\n",
       "      <td>...</td>\n",
       "      <td>13463-67-7</td>\n",
       "      <td>8856</td>\n",
       "      <td>Titanium dioxide</td>\n",
       "      <td>10/15/2009</td>\n",
       "      <td>12/30/2010</td>\n",
       "      <td>NaN</td>\n",
       "      <td>10/15/2009</td>\n",
       "      <td>10/15/2009</td>\n",
       "      <td>NaN</td>\n",
       "      <td>1</td>\n",
       "    </tr>\n",
       "    <tr>\n",
       "      <th>...</th>\n",
       "      <td>...</td>\n",
       "      <td>...</td>\n",
       "      <td>...</td>\n",
       "      <td>...</td>\n",
       "      <td>...</td>\n",
       "      <td>...</td>\n",
       "      <td>...</td>\n",
       "      <td>...</td>\n",
       "      <td>...</td>\n",
       "      <td>...</td>\n",
       "      <td>...</td>\n",
       "      <td>...</td>\n",
       "      <td>...</td>\n",
       "      <td>...</td>\n",
       "      <td>...</td>\n",
       "      <td>...</td>\n",
       "      <td>...</td>\n",
       "      <td>...</td>\n",
       "      <td>...</td>\n",
       "      <td>...</td>\n",
       "      <td>...</td>\n",
       "    </tr>\n",
       "    <tr>\n",
       "      <th>114340</th>\n",
       "      <td>41419</td>\n",
       "      <td>SEPHORA - WILD WISHES - MAKEUP PALETTE</td>\n",
       "      <td>64850.0</td>\n",
       "      <td>Eye pencil</td>\n",
       "      <td>198</td>\n",
       "      <td>S+</td>\n",
       "      <td>SEPHORA</td>\n",
       "      <td>44</td>\n",
       "      <td>Makeup Products (non-permanent)</td>\n",
       "      <td>49</td>\n",
       "      <td>...</td>\n",
       "      <td>12001-26-2</td>\n",
       "      <td>67840</td>\n",
       "      <td>Mica</td>\n",
       "      <td>04/22/2020</td>\n",
       "      <td>04/24/2020</td>\n",
       "      <td>NaN</td>\n",
       "      <td>04/24/2020</td>\n",
       "      <td>04/24/2020</td>\n",
       "      <td>NaN</td>\n",
       "      <td>3</td>\n",
       "    </tr>\n",
       "    <tr>\n",
       "      <th>114341</th>\n",
       "      <td>41419</td>\n",
       "      <td>SEPHORA - WILD WISHES - MAKEUP PALETTE</td>\n",
       "      <td>64850.0</td>\n",
       "      <td>Eye pencil</td>\n",
       "      <td>198</td>\n",
       "      <td>S+</td>\n",
       "      <td>SEPHORA</td>\n",
       "      <td>44</td>\n",
       "      <td>Makeup Products (non-permanent)</td>\n",
       "      <td>52</td>\n",
       "      <td>...</td>\n",
       "      <td>13463-67-7</td>\n",
       "      <td>67830</td>\n",
       "      <td>Titanium dioxide</td>\n",
       "      <td>04/22/2020</td>\n",
       "      <td>04/24/2020</td>\n",
       "      <td>NaN</td>\n",
       "      <td>04/22/2020</td>\n",
       "      <td>04/24/2020</td>\n",
       "      <td>NaN</td>\n",
       "      <td>3</td>\n",
       "    </tr>\n",
       "    <tr>\n",
       "      <th>114342</th>\n",
       "      <td>41419</td>\n",
       "      <td>SEPHORA - WILD WISHES - MAKEUP PALETTE</td>\n",
       "      <td>64850.0</td>\n",
       "      <td>Eye pencil</td>\n",
       "      <td>198</td>\n",
       "      <td>S+</td>\n",
       "      <td>SEPHORA</td>\n",
       "      <td>44</td>\n",
       "      <td>Makeup Products (non-permanent)</td>\n",
       "      <td>52</td>\n",
       "      <td>...</td>\n",
       "      <td>14807-96-6</td>\n",
       "      <td>67831</td>\n",
       "      <td>Talc</td>\n",
       "      <td>04/22/2020</td>\n",
       "      <td>04/24/2020</td>\n",
       "      <td>NaN</td>\n",
       "      <td>04/22/2020</td>\n",
       "      <td>04/22/2020</td>\n",
       "      <td>NaN</td>\n",
       "      <td>3</td>\n",
       "    </tr>\n",
       "    <tr>\n",
       "      <th>114343</th>\n",
       "      <td>41419</td>\n",
       "      <td>SEPHORA - WILD WISHES - MAKEUP PALETTE</td>\n",
       "      <td>64850.0</td>\n",
       "      <td>Eye pencil</td>\n",
       "      <td>198</td>\n",
       "      <td>S+</td>\n",
       "      <td>SEPHORA</td>\n",
       "      <td>44</td>\n",
       "      <td>Makeup Products (non-permanent)</td>\n",
       "      <td>52</td>\n",
       "      <td>...</td>\n",
       "      <td>108-88-3</td>\n",
       "      <td>67839</td>\n",
       "      <td>Toluene</td>\n",
       "      <td>04/22/2020</td>\n",
       "      <td>04/24/2020</td>\n",
       "      <td>NaN</td>\n",
       "      <td>04/24/2020</td>\n",
       "      <td>04/24/2020</td>\n",
       "      <td>04/24/2020</td>\n",
       "      <td>3</td>\n",
       "    </tr>\n",
       "    <tr>\n",
       "      <th>114344</th>\n",
       "      <td>41419</td>\n",
       "      <td>SEPHORA - WILD WISHES - MAKEUP PALETTE</td>\n",
       "      <td>64850.0</td>\n",
       "      <td>Eye pencil</td>\n",
       "      <td>198</td>\n",
       "      <td>S+</td>\n",
       "      <td>SEPHORA</td>\n",
       "      <td>44</td>\n",
       "      <td>Makeup Products (non-permanent)</td>\n",
       "      <td>52</td>\n",
       "      <td>...</td>\n",
       "      <td>12001-26-2</td>\n",
       "      <td>67840</td>\n",
       "      <td>Mica</td>\n",
       "      <td>04/22/2020</td>\n",
       "      <td>04/24/2020</td>\n",
       "      <td>NaN</td>\n",
       "      <td>04/24/2020</td>\n",
       "      <td>04/24/2020</td>\n",
       "      <td>NaN</td>\n",
       "      <td>3</td>\n",
       "    </tr>\n",
       "  </tbody>\n",
       "</table>\n",
       "<p>5165 rows × 22 columns</p>\n",
       "</div>"
      ],
      "text/plain": [
       "        CDPHId                                ProductName    CSFId  \\\n",
       "20062     5088  NECTAR SHINE HYDRATING CARE LIPGLOSS SPF8  11756.0   \n",
       "20063     5088  NECTAR SHINE HYDRATING CARE LIPGLOSS SPF8  11757.0   \n",
       "20064     5088  NECTAR SHINE HYDRATING CARE LIPGLOSS SPF8  11758.0   \n",
       "20065     5088  NECTAR SHINE HYDRATING CARE LIPGLOSS SPF8  11759.0   \n",
       "20066     5088  NECTAR SHINE HYDRATING CARE LIPGLOSS SPF8  11760.0   \n",
       "...        ...                                        ...      ...   \n",
       "114340   41419     SEPHORA - WILD WISHES - MAKEUP PALETTE  64850.0   \n",
       "114341   41419     SEPHORA - WILD WISHES - MAKEUP PALETTE  64850.0   \n",
       "114342   41419     SEPHORA - WILD WISHES - MAKEUP PALETTE  64850.0   \n",
       "114343   41419     SEPHORA - WILD WISHES - MAKEUP PALETTE  64850.0   \n",
       "114344   41419     SEPHORA - WILD WISHES - MAKEUP PALETTE  64850.0   \n",
       "\n",
       "                      CSF  CompanyId CompanyName BrandName  PrimaryCategoryId  \\\n",
       "20062    01- Gingre Shine        198          S+  Sephora                  44   \n",
       "20063    02- Litchi Shine        198          S+  Sephora                  44   \n",
       "20064     03- Peach Shine        198          S+  Sephora                  44   \n",
       "20065    04 - Mango Shine        198          S+  Sephora                  44   \n",
       "20066   05- Passion Shine        198          S+  Sephora                  44   \n",
       "...                   ...        ...         ...       ...                ...   \n",
       "114340         Eye pencil        198          S+   SEPHORA                 44   \n",
       "114341         Eye pencil        198          S+   SEPHORA                 44   \n",
       "114342         Eye pencil        198          S+   SEPHORA                 44   \n",
       "114343         Eye pencil        198          S+   SEPHORA                 44   \n",
       "114344         Eye pencil        198          S+   SEPHORA                 44   \n",
       "\n",
       "                        PrimaryCategory  SubCategoryId  ...   CasNumber  \\\n",
       "20062   Makeup Products (non-permanent)             52  ...  13463-67-7   \n",
       "20063   Makeup Products (non-permanent)             52  ...  13463-67-7   \n",
       "20064   Makeup Products (non-permanent)             52  ...  13463-67-7   \n",
       "20065   Makeup Products (non-permanent)             52  ...  13463-67-7   \n",
       "20066   Makeup Products (non-permanent)             52  ...  13463-67-7   \n",
       "...                                 ...            ...  ...         ...   \n",
       "114340  Makeup Products (non-permanent)             49  ...  12001-26-2   \n",
       "114341  Makeup Products (non-permanent)             52  ...  13463-67-7   \n",
       "114342  Makeup Products (non-permanent)             52  ...  14807-96-6   \n",
       "114343  Makeup Products (non-permanent)             52  ...    108-88-3   \n",
       "114344  Makeup Products (non-permanent)             52  ...  12001-26-2   \n",
       "\n",
       "        ChemicalId      ChemicalName  InitialDateReported  \\\n",
       "20062         8856  Titanium dioxide           10/15/2009   \n",
       "20063         8856  Titanium dioxide           10/15/2009   \n",
       "20064         8856  Titanium dioxide           10/15/2009   \n",
       "20065         8856  Titanium dioxide           10/15/2009   \n",
       "20066         8856  Titanium dioxide           10/15/2009   \n",
       "...            ...               ...                  ...   \n",
       "114340       67840              Mica           04/22/2020   \n",
       "114341       67830  Titanium dioxide           04/22/2020   \n",
       "114342       67831              Talc           04/22/2020   \n",
       "114343       67839           Toluene           04/22/2020   \n",
       "114344       67840              Mica           04/22/2020   \n",
       "\n",
       "       MostRecentDateReported DiscontinuedDate ChemicalCreatedAt  \\\n",
       "20062              12/30/2010              NaN        10/15/2009   \n",
       "20063              12/30/2010              NaN        10/15/2009   \n",
       "20064              12/30/2010              NaN        10/15/2009   \n",
       "20065              12/30/2010              NaN        10/15/2009   \n",
       "20066              12/30/2010              NaN        10/15/2009   \n",
       "...                       ...              ...               ...   \n",
       "114340             04/24/2020              NaN        04/24/2020   \n",
       "114341             04/24/2020              NaN        04/22/2020   \n",
       "114342             04/24/2020              NaN        04/22/2020   \n",
       "114343             04/24/2020              NaN        04/24/2020   \n",
       "114344             04/24/2020              NaN        04/24/2020   \n",
       "\n",
       "       ChemicalUpdatedAt ChemicalDateRemoved ChemicalCount  \n",
       "20062         10/15/2009                 NaN             1  \n",
       "20063         10/15/2009                 NaN             1  \n",
       "20064         10/15/2009                 NaN             1  \n",
       "20065         10/15/2009                 NaN             1  \n",
       "20066         10/15/2009                 NaN             1  \n",
       "...                  ...                 ...           ...  \n",
       "114340        04/24/2020                 NaN             3  \n",
       "114341        04/24/2020                 NaN             3  \n",
       "114342        04/22/2020                 NaN             3  \n",
       "114343        04/24/2020          04/24/2020             3  \n",
       "114344        04/24/2020                 NaN             3  \n",
       "\n",
       "[5165 rows x 22 columns]"
      ]
     },
     "execution_count": 57,
     "metadata": {},
     "output_type": "execute_result"
    }
   ],
   "source": [
    "cosmetics3.loc[cosmetics3['CompanyName'] == 'S+']"
   ]
  },
  {
   "cell_type": "code",
   "execution_count": 8,
   "id": "7b820744-f7cb-426e-adfd-af13da1ca7fe",
   "metadata": {},
   "outputs": [],
   "source": [
    "cosmetics=cosmetics.drop(columns = ['Rank'])"
   ]
  },
  {
   "cell_type": "code",
   "execution_count": 9,
   "id": "28a29fc1-a2b6-49f7-96f9-de0c2c85f42f",
   "metadata": {},
   "outputs": [],
   "source": [
    "cosmetics2=cosmetics2.drop(columns =['Product Id','Variant','Product Discontinued Date', 'Product Submitted Date','Function','Unit of Measure','Concentration','Ingredient Submitted Date', 'Ingredient Removed Date','UPC','Intended Market'])"
   ]
  },
  {
   "cell_type": "code",
   "execution_count": 10,
   "id": "23d1d243-ee52-497a-9048-8eb0888aeebc",
   "metadata": {},
   "outputs": [],
   "source": [
    "cosmetics4=cosmetics3.drop(columns = ['CDPHId','CSFId','CSF','CompanyId','PrimaryCategoryId','SubCategoryId','CasNumber','ChemicalId','InitialDateReported','MostRecentDateReported','DiscontinuedDate','ChemicalCreatedAt','ChemicalCount','ChemicalDateRemoved'])"
   ]
  },
  {
   "cell_type": "code",
   "execution_count": 11,
   "id": "274f6e8b-0182-471c-a15b-fd57c441aa07",
   "metadata": {},
   "outputs": [
    {
     "name": "stdout",
     "output_type": "stream",
     "text": [
      "<class 'pandas.core.frame.DataFrame'>\n",
      "RangeIndex: 1472 entries, 0 to 1471\n",
      "Data columns (total 10 columns):\n",
      " #   Column       Non-Null Count  Dtype \n",
      "---  ------       --------------  ----- \n",
      " 0   Label        1472 non-null   object\n",
      " 1   Brand        1472 non-null   object\n",
      " 2   Name         1472 non-null   object\n",
      " 3   Price        1472 non-null   int64 \n",
      " 4   Ingredients  1472 non-null   object\n",
      " 5   Combination  1472 non-null   int64 \n",
      " 6   Dry          1472 non-null   int64 \n",
      " 7   Normal       1472 non-null   int64 \n",
      " 8   Oily         1472 non-null   int64 \n",
      " 9   Sensitive    1472 non-null   int64 \n",
      "dtypes: int64(6), object(4)\n",
      "memory usage: 115.1+ KB\n"
     ]
    }
   ],
   "source": [
    "cosmetics.info()"
   ]
  },
  {
   "cell_type": "code",
   "execution_count": 12,
   "id": "8421ed61-cf12-42d3-9d1a-7995a66c997e",
   "metadata": {},
   "outputs": [
    {
     "data": {
      "text/plain": [
       "Label          0\n",
       "Brand          0\n",
       "Name           0\n",
       "Price          0\n",
       "Ingredients    0\n",
       "Combination    0\n",
       "Dry            0\n",
       "Normal         0\n",
       "Oily           0\n",
       "Sensitive      0\n",
       "dtype: int64"
      ]
     },
     "execution_count": 12,
     "metadata": {},
     "output_type": "execute_result"
    }
   ],
   "source": [
    "cosmetics.isna().sum()"
   ]
  },
  {
   "cell_type": "code",
   "execution_count": 13,
   "id": "6b1e0739-57e1-415a-87c2-fd5f07c5f953",
   "metadata": {},
   "outputs": [
    {
     "data": {
      "text/plain": [
       "<bound method IndexOpsMixin.value_counts of 0                              LA MER\n",
       "1                               SK-II\n",
       "2                      DRUNK ELEPHANT\n",
       "3                              LA MER\n",
       "4                        IT COSMETICS\n",
       "                    ...              \n",
       "1467                           KORRES\n",
       "1468                  KATE SOMERVILLE\n",
       "1469                    VITA LIBERATA\n",
       "1470    ST. TROPEZ TANNING ESSENTIALS\n",
       "1471                       DERMAFLASH\n",
       "Name: Brand, Length: 1472, dtype: object>"
      ]
     },
     "execution_count": 13,
     "metadata": {},
     "output_type": "execute_result"
    }
   ],
   "source": [
    "cosmetics['Brand'].value_counts"
   ]
  },
  {
   "cell_type": "code",
   "execution_count": 14,
   "id": "3d21c680-3cd2-438b-bd44-2957ce1ad37b",
   "metadata": {},
   "outputs": [
    {
     "data": {
      "text/plain": [
       "Label\n",
       "Moisturizer    298\n",
       "Cleanser       281\n",
       "Face Mask      266\n",
       "Treatment      248\n",
       "Eye cream      209\n",
       "Sun protect    170\n",
       "Name: count, dtype: int64"
      ]
     },
     "execution_count": 14,
     "metadata": {},
     "output_type": "execute_result"
    }
   ],
   "source": [
    "cosmetics['Label'].value_counts()"
   ]
  },
  {
   "cell_type": "code",
   "execution_count": null,
   "id": "5a25493c-a4c9-438f-a82a-2024bb2f82a2",
   "metadata": {},
   "outputs": [],
   "source": []
  },
  {
   "cell_type": "code",
   "execution_count": 15,
   "id": "d1248bbe-99aa-4916-8080-2bab98a9dc35",
   "metadata": {},
   "outputs": [
    {
     "name": "stdout",
     "output_type": "stream",
     "text": [
      "<class 'pandas.core.frame.DataFrame'>\n",
      "RangeIndex: 851402 entries, 0 to 851401\n",
      "Data columns (total 7 columns):\n",
      " #   Column            Non-Null Count   Dtype \n",
      "---  ------            --------------   ----- \n",
      " 0   Company           851402 non-null  object\n",
      " 1   Brand             851162 non-null  object\n",
      " 2   Product Name      851402 non-null  object\n",
      " 3   Ingredient Name   851402 non-null  object\n",
      " 4   Body Area         844399 non-null  object\n",
      " 5   Product Category  851402 non-null  object\n",
      " 6   Product Form      840129 non-null  object\n",
      "dtypes: object(7)\n",
      "memory usage: 45.5+ MB\n"
     ]
    }
   ],
   "source": [
    "cosmetics2.info()"
   ]
  },
  {
   "cell_type": "code",
   "execution_count": 16,
   "id": "0f4ad755-5c0b-4064-9a85-bb524a0fdbfd",
   "metadata": {},
   "outputs": [
    {
     "data": {
      "text/plain": [
       "Company                 0\n",
       "Brand                 240\n",
       "Product Name            0\n",
       "Ingredient Name         0\n",
       "Body Area            7003\n",
       "Product Category        0\n",
       "Product Form        11273\n",
       "dtype: int64"
      ]
     },
     "execution_count": 16,
     "metadata": {},
     "output_type": "execute_result"
    }
   ],
   "source": [
    "cosmetics2.isna().sum()"
   ]
  },
  {
   "cell_type": "code",
   "execution_count": 17,
   "id": "5c5a9b65-bd73-4440-a72a-2c553df67901",
   "metadata": {},
   "outputs": [
    {
     "data": {
      "text/plain": [
       "Brand\n",
       "Bath & Body Works                63192\n",
       "Victoria's Secret Beauty         22633\n",
       "GIORGIO ARMANI                   22616\n",
       "The White Company                16006\n",
       "Lancome                          13622\n",
       "                                 ...  \n",
       "Rite Aid Sensitive Toothpaste        1\n",
       "CANDY COLOR                          1\n",
       "RITUELS BOTAN. BODY                  1\n",
       "Calvin Klein Man                     1\n",
       " Entity Nudite                       1\n",
       "Name: count, Length: 3744, dtype: int64"
      ]
     },
     "execution_count": 17,
     "metadata": {},
     "output_type": "execute_result"
    }
   ],
   "source": [
    "cosmetics2['Brand'].value_counts()"
   ]
  },
  {
   "cell_type": "code",
   "execution_count": 18,
   "id": "c4f47e85-28a1-49a5-8085-63aaaf7975dc",
   "metadata": {},
   "outputs": [
    {
     "name": "stdout",
     "output_type": "stream",
     "text": [
      "<class 'pandas.core.frame.DataFrame'>\n",
      "RangeIndex: 114635 entries, 0 to 114634\n",
      "Data columns (total 22 columns):\n",
      " #   Column                  Non-Null Count   Dtype  \n",
      "---  ------                  --------------   -----  \n",
      " 0   CDPHId                  114635 non-null  int64  \n",
      " 1   ProductName             114635 non-null  object \n",
      " 2   CSFId                   80662 non-null   float64\n",
      " 3   CSF                     80237 non-null   object \n",
      " 4   CompanyId               114635 non-null  int64  \n",
      " 5   CompanyName             114635 non-null  object \n",
      " 6   BrandName               114408 non-null  object \n",
      " 7   PrimaryCategoryId       114635 non-null  int64  \n",
      " 8   PrimaryCategory         114635 non-null  object \n",
      " 9   SubCategoryId           114635 non-null  int64  \n",
      " 10  SubCategory             114635 non-null  object \n",
      " 11  CasId                   114635 non-null  int64  \n",
      " 12  CasNumber               108159 non-null  object \n",
      " 13  ChemicalId              114635 non-null  int64  \n",
      " 14  ChemicalName            114635 non-null  object \n",
      " 15  InitialDateReported     114635 non-null  object \n",
      " 16  MostRecentDateReported  114635 non-null  object \n",
      " 17  DiscontinuedDate        12920 non-null   object \n",
      " 18  ChemicalCreatedAt       114635 non-null  object \n",
      " 19  ChemicalUpdatedAt       114635 non-null  object \n",
      " 20  ChemicalDateRemoved     2985 non-null    object \n",
      " 21  ChemicalCount           114635 non-null  int64  \n",
      "dtypes: float64(1), int64(7), object(14)\n",
      "memory usage: 19.2+ MB\n"
     ]
    }
   ],
   "source": [
    "cosmetics3.info()"
   ]
  },
  {
   "cell_type": "code",
   "execution_count": 19,
   "id": "03b05774-7e69-4ff0-9e44-109194cf8cff",
   "metadata": {},
   "outputs": [
    {
     "data": {
      "text/plain": [
       "CDPHId                         0\n",
       "ProductName                    0\n",
       "CSFId                      33973\n",
       "CSF                        34398\n",
       "CompanyId                      0\n",
       "CompanyName                    0\n",
       "BrandName                    227\n",
       "PrimaryCategoryId              0\n",
       "PrimaryCategory                0\n",
       "SubCategoryId                  0\n",
       "SubCategory                    0\n",
       "CasId                          0\n",
       "CasNumber                   6476\n",
       "ChemicalId                     0\n",
       "ChemicalName                   0\n",
       "InitialDateReported            0\n",
       "MostRecentDateReported         0\n",
       "DiscontinuedDate          101715\n",
       "ChemicalCreatedAt              0\n",
       "ChemicalUpdatedAt              0\n",
       "ChemicalDateRemoved       111650\n",
       "ChemicalCount                  0\n",
       "dtype: int64"
      ]
     },
     "execution_count": 19,
     "metadata": {},
     "output_type": "execute_result"
    }
   ],
   "source": [
    "cosmetics3.isna().sum()"
   ]
  },
  {
   "cell_type": "code",
   "execution_count": 20,
   "id": "e6f4a243-8d2e-4b68-b622-a8a566156797",
   "metadata": {},
   "outputs": [
    {
     "data": {
      "text/plain": [
       "BrandName\n",
       "SEPHORA               3394\n",
       "NYX                   3227\n",
       "bareMinerals          3158\n",
       "Charlotte Tilbury     2453\n",
       "Revlon                2335\n",
       "                      ... \n",
       "Ayur SPF 30              1\n",
       "Sears                    1\n",
       "53 Elegant Rubin         1\n",
       "Yoanna Warm Sunset       1\n",
       "Ruby Kisses              1\n",
       "Name: count, Length: 2713, dtype: int64"
      ]
     },
     "execution_count": 20,
     "metadata": {},
     "output_type": "execute_result"
    }
   ],
   "source": [
    "cosmetics3['BrandName'].value_counts()"
   ]
  },
  {
   "cell_type": "code",
   "execution_count": 21,
   "id": "454c6732-994a-4f2c-b5f8-6e472e2ab79e",
   "metadata": {},
   "outputs": [
    {
     "data": {
      "text/plain": [
       "array(['AVON', \"Glover's\", 'OPI', ..., 'sulwhasoo ', 'HAIR FOOD',\n",
       "       'YANBAL'], dtype=object)"
      ]
     },
     "execution_count": 21,
     "metadata": {},
     "output_type": "execute_result"
    }
   ],
   "source": [
    "cosmetics3['BrandName'].unique()"
   ]
  }
 ],
 "metadata": {
  "kernelspec": {
   "display_name": "Python 3 (ipykernel)",
   "language": "python",
   "name": "python3"
  },
  "language_info": {
   "codemirror_mode": {
    "name": "ipython",
    "version": 3
   },
   "file_extension": ".py",
   "mimetype": "text/x-python",
   "name": "python",
   "nbconvert_exporter": "python",
   "pygments_lexer": "ipython3",
   "version": "3.12.4"
  }
 },
 "nbformat": 4,
 "nbformat_minor": 5
}
