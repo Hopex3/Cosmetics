{
 "cells": [
  {
   "cell_type": "code",
   "execution_count": 1,
   "id": "363d8784-1540-41fc-8ff4-0253e6368f50",
   "metadata": {},
   "outputs": [],
   "source": [
    "import pandas as pd"
   ]
  },
  {
   "cell_type": "code",
   "execution_count": 2,
   "id": "a68490aa-ef05-4e2a-8ad3-de20aee1e959",
   "metadata": {},
   "outputs": [],
   "source": [
    "cosmetics=pd.read_csv(r\"C:\\Users\\epoh2\\Documents\\NSS\\NSS\\Python\\projects\\Cosmetics\\data\\cosmetics.csv\")"
   ]
  },
  {
   "cell_type": "code",
   "execution_count": 3,
   "id": "8aad0910-0785-4c3d-a813-89b7d5f125c9",
   "metadata": {},
   "outputs": [
    {
     "name": "stderr",
     "output_type": "stream",
     "text": [
      "C:\\Users\\epoh2\\AppData\\Local\\Temp\\ipykernel_39348\\2875099562.py:1: DtypeWarning: Columns (10) have mixed types. Specify dtype option on import or set low_memory=False.\n",
      "  cosmetics2=pd.read_csv(r\"C:\\Users\\epoh2\\Documents\\NSS\\NSS\\Python\\projects\\Cosmetics\\data\\cosmetics2.csv\")\n"
     ]
    }
   ],
   "source": [
    "cosmetics2=pd.read_csv(r\"C:\\Users\\epoh2\\Documents\\NSS\\NSS\\Python\\projects\\Cosmetics\\data\\cosmetics2.csv\")"
   ]
  },
  {
   "cell_type": "code",
   "execution_count": 4,
   "id": "64c4c363-d6b1-4f1f-9d1f-0f2574e8388a",
   "metadata": {},
   "outputs": [],
   "source": [
    "cosmetics3=pd.read_csv(r\"C:\\Users\\epoh2\\Documents\\NSS\\NSS\\Python\\projects\\Cosmetics\\data\\cosmetics3.csv\")"
   ]
  },
  {
   "cell_type": "code",
   "execution_count": 5,
   "id": "d03b9ed2-9cdd-4032-b031-a1d419d9fe33",
   "metadata": {},
   "outputs": [
    {
     "data": {
      "text/html": [
       "<div>\n",
       "<style scoped>\n",
       "    .dataframe tbody tr th:only-of-type {\n",
       "        vertical-align: middle;\n",
       "    }\n",
       "\n",
       "    .dataframe tbody tr th {\n",
       "        vertical-align: top;\n",
       "    }\n",
       "\n",
       "    .dataframe thead th {\n",
       "        text-align: right;\n",
       "    }\n",
       "</style>\n",
       "<table border=\"1\" class=\"dataframe\">\n",
       "  <thead>\n",
       "    <tr style=\"text-align: right;\">\n",
       "      <th></th>\n",
       "      <th>Product Id</th>\n",
       "      <th>Company</th>\n",
       "      <th>Brand</th>\n",
       "      <th>Product Name</th>\n",
       "      <th>Variant</th>\n",
       "      <th>Product Discontinued Date</th>\n",
       "      <th>Product Submitted Date</th>\n",
       "      <th>Ingredient Name</th>\n",
       "      <th>Function</th>\n",
       "      <th>Unit of Measure</th>\n",
       "      <th>Concentration</th>\n",
       "      <th>Ingredient Submitted Date</th>\n",
       "      <th>Ingredient Removed Date</th>\n",
       "      <th>UPC</th>\n",
       "      <th>Body Area</th>\n",
       "      <th>Product Category</th>\n",
       "      <th>Product Form</th>\n",
       "      <th>Intended Market</th>\n",
       "    </tr>\n",
       "  </thead>\n",
       "  <tbody>\n",
       "    <tr>\n",
       "      <th>0</th>\n",
       "      <td>18358</td>\n",
       "      <td>Nail Alliance - Entity</td>\n",
       "      <td>Entity Nudite</td>\n",
       "      <td>Cool Pink Nail Sculpting Powder</td>\n",
       "      <td>NaN</td>\n",
       "      <td>NaN</td>\n",
       "      <td>6/24/2019</td>\n",
       "      <td>Titanium dioxide (CI 77891) 13463-67-7 / 1317-...</td>\n",
       "      <td>NaN</td>\n",
       "      <td>mg/g</td>\n",
       "      <td>5</td>\n",
       "      <td>6/24/2019</td>\n",
       "      <td>NaN</td>\n",
       "      <td>Not Available</td>\n",
       "      <td>Nails</td>\n",
       "      <td>Artificial Nails and Related Products</td>\n",
       "      <td>Powder</td>\n",
       "      <td>Not Available</td>\n",
       "    </tr>\n",
       "  </tbody>\n",
       "</table>\n",
       "</div>"
      ],
      "text/plain": [
       "   Product Id                 Company           Brand  \\\n",
       "0       18358  Nail Alliance - Entity   Entity Nudite   \n",
       "\n",
       "                      Product Name Variant Product Discontinued Date  \\\n",
       "0  Cool Pink Nail Sculpting Powder     NaN                       NaN   \n",
       "\n",
       "  Product Submitted Date                                    Ingredient Name  \\\n",
       "0              6/24/2019  Titanium dioxide (CI 77891) 13463-67-7 / 1317-...   \n",
       "\n",
       "  Function Unit of Measure Concentration Ingredient Submitted Date  \\\n",
       "0      NaN            mg/g             5                 6/24/2019   \n",
       "\n",
       "  Ingredient Removed Date            UPC Body Area  \\\n",
       "0                     NaN  Not Available     Nails   \n",
       "\n",
       "                        Product Category Product Form Intended Market  \n",
       "0  Artificial Nails and Related Products       Powder   Not Available  "
      ]
     },
     "execution_count": 5,
     "metadata": {},
     "output_type": "execute_result"
    }
   ],
   "source": [
    "cosmetics2.head(1)"
   ]
  },
  {
   "cell_type": "code",
   "execution_count": 6,
   "id": "079bfb98-14ee-422f-bef7-6303d13da5c4",
   "metadata": {},
   "outputs": [
    {
     "data": {
      "text/html": [
       "<div>\n",
       "<style scoped>\n",
       "    .dataframe tbody tr th:only-of-type {\n",
       "        vertical-align: middle;\n",
       "    }\n",
       "\n",
       "    .dataframe tbody tr th {\n",
       "        vertical-align: top;\n",
       "    }\n",
       "\n",
       "    .dataframe thead th {\n",
       "        text-align: right;\n",
       "    }\n",
       "</style>\n",
       "<table border=\"1\" class=\"dataframe\">\n",
       "  <thead>\n",
       "    <tr style=\"text-align: right;\">\n",
       "      <th></th>\n",
       "      <th>Label</th>\n",
       "      <th>Brand</th>\n",
       "      <th>Name</th>\n",
       "      <th>Price</th>\n",
       "      <th>Rank</th>\n",
       "      <th>Ingredients</th>\n",
       "      <th>Combination</th>\n",
       "      <th>Dry</th>\n",
       "      <th>Normal</th>\n",
       "      <th>Oily</th>\n",
       "      <th>Sensitive</th>\n",
       "    </tr>\n",
       "  </thead>\n",
       "  <tbody>\n",
       "    <tr>\n",
       "      <th>0</th>\n",
       "      <td>Moisturizer</td>\n",
       "      <td>LA MER</td>\n",
       "      <td>Crème de la Mer</td>\n",
       "      <td>175</td>\n",
       "      <td>4.1</td>\n",
       "      <td>Algae (Seaweed) Extract, Mineral Oil, Petrolat...</td>\n",
       "      <td>1</td>\n",
       "      <td>1</td>\n",
       "      <td>1</td>\n",
       "      <td>1</td>\n",
       "      <td>1</td>\n",
       "    </tr>\n",
       "  </tbody>\n",
       "</table>\n",
       "</div>"
      ],
      "text/plain": [
       "         Label   Brand             Name  Price  Rank  \\\n",
       "0  Moisturizer  LA MER  Crème de la Mer    175   4.1   \n",
       "\n",
       "                                         Ingredients  Combination  Dry  \\\n",
       "0  Algae (Seaweed) Extract, Mineral Oil, Petrolat...            1    1   \n",
       "\n",
       "   Normal  Oily  Sensitive  \n",
       "0       1     1          1  "
      ]
     },
     "execution_count": 6,
     "metadata": {},
     "output_type": "execute_result"
    }
   ],
   "source": [
    "cosmetics.head(1)"
   ]
  },
  {
   "cell_type": "code",
   "execution_count": 7,
   "id": "14fb2db8-4478-43f4-959f-0aba9b62a98b",
   "metadata": {},
   "outputs": [
    {
     "data": {
      "text/html": [
       "<div>\n",
       "<style scoped>\n",
       "    .dataframe tbody tr th:only-of-type {\n",
       "        vertical-align: middle;\n",
       "    }\n",
       "\n",
       "    .dataframe tbody tr th {\n",
       "        vertical-align: top;\n",
       "    }\n",
       "\n",
       "    .dataframe thead th {\n",
       "        text-align: right;\n",
       "    }\n",
       "</style>\n",
       "<table border=\"1\" class=\"dataframe\">\n",
       "  <thead>\n",
       "    <tr style=\"text-align: right;\">\n",
       "      <th></th>\n",
       "      <th>CDPHId</th>\n",
       "      <th>ProductName</th>\n",
       "      <th>CSFId</th>\n",
       "      <th>CSF</th>\n",
       "      <th>CompanyId</th>\n",
       "      <th>CompanyName</th>\n",
       "      <th>BrandName</th>\n",
       "      <th>PrimaryCategoryId</th>\n",
       "      <th>PrimaryCategory</th>\n",
       "      <th>SubCategoryId</th>\n",
       "      <th>...</th>\n",
       "      <th>CasNumber</th>\n",
       "      <th>ChemicalId</th>\n",
       "      <th>ChemicalName</th>\n",
       "      <th>InitialDateReported</th>\n",
       "      <th>MostRecentDateReported</th>\n",
       "      <th>DiscontinuedDate</th>\n",
       "      <th>ChemicalCreatedAt</th>\n",
       "      <th>ChemicalUpdatedAt</th>\n",
       "      <th>ChemicalDateRemoved</th>\n",
       "      <th>ChemicalCount</th>\n",
       "    </tr>\n",
       "  </thead>\n",
       "  <tbody>\n",
       "    <tr>\n",
       "      <th>0</th>\n",
       "      <td>2</td>\n",
       "      <td>ULTRA COLOR RICH EXTRA PLUMP LIPSTICK-ALL SHADES</td>\n",
       "      <td>NaN</td>\n",
       "      <td>NaN</td>\n",
       "      <td>4</td>\n",
       "      <td>New Avon LLC</td>\n",
       "      <td>AVON</td>\n",
       "      <td>44</td>\n",
       "      <td>Makeup Products (non-permanent)</td>\n",
       "      <td>53</td>\n",
       "      <td>...</td>\n",
       "      <td>13463-67-7</td>\n",
       "      <td>6</td>\n",
       "      <td>Titanium dioxide</td>\n",
       "      <td>06/17/2009</td>\n",
       "      <td>08/28/2013</td>\n",
       "      <td>02/01/2011</td>\n",
       "      <td>07/09/2009</td>\n",
       "      <td>07/09/2009</td>\n",
       "      <td>NaN</td>\n",
       "      <td>1</td>\n",
       "    </tr>\n",
       "  </tbody>\n",
       "</table>\n",
       "<p>1 rows × 22 columns</p>\n",
       "</div>"
      ],
      "text/plain": [
       "   CDPHId                                       ProductName  CSFId  CSF  \\\n",
       "0       2  ULTRA COLOR RICH EXTRA PLUMP LIPSTICK-ALL SHADES    NaN  NaN   \n",
       "\n",
       "   CompanyId   CompanyName BrandName  PrimaryCategoryId  \\\n",
       "0          4  New Avon LLC      AVON                 44   \n",
       "\n",
       "                   PrimaryCategory  SubCategoryId  ...   CasNumber  \\\n",
       "0  Makeup Products (non-permanent)             53  ...  13463-67-7   \n",
       "\n",
       "   ChemicalId      ChemicalName  InitialDateReported MostRecentDateReported  \\\n",
       "0           6  Titanium dioxide           06/17/2009             08/28/2013   \n",
       "\n",
       "  DiscontinuedDate ChemicalCreatedAt ChemicalUpdatedAt ChemicalDateRemoved  \\\n",
       "0       02/01/2011        07/09/2009        07/09/2009                 NaN   \n",
       "\n",
       "  ChemicalCount  \n",
       "0             1  \n",
       "\n",
       "[1 rows x 22 columns]"
      ]
     },
     "execution_count": 7,
     "metadata": {},
     "output_type": "execute_result"
    }
   ],
   "source": [
    "cosmetics3.head(1)"
   ]
  },
  {
   "cell_type": "code",
   "execution_count": 8,
   "id": "a4c461f4-04a9-4d4b-80eb-1c98fa4a4e52",
   "metadata": {},
   "outputs": [
    {
     "data": {
      "text/plain": [
       "Index(['CDPHId', 'ProductName', 'CSFId', 'CSF', 'CompanyId', 'CompanyName',\n",
       "       'BrandName', 'PrimaryCategoryId', 'PrimaryCategory', 'SubCategoryId',\n",
       "       'SubCategory', 'CasId', 'CasNumber', 'ChemicalId', 'ChemicalName',\n",
       "       'InitialDateReported', 'MostRecentDateReported', 'DiscontinuedDate',\n",
       "       'ChemicalCreatedAt', 'ChemicalUpdatedAt', 'ChemicalDateRemoved',\n",
       "       'ChemicalCount'],\n",
       "      dtype='object')"
      ]
     },
     "execution_count": 8,
     "metadata": {},
     "output_type": "execute_result"
    }
   ],
   "source": [
    "cosmetics3.columns"
   ]
  },
  {
   "cell_type": "code",
   "execution_count": 9,
   "id": "7be46292-b024-4b7e-be89-b2e694b10ac1",
   "metadata": {},
   "outputs": [],
   "source": [
    "cosmetics3=cosmetics3.drop(columns = ['CDPHId','CSFId','CSF','CompanyId','PrimaryCategoryId','SubCategoryId','CasId','CasNumber','ChemicalId'])"
   ]
  },
  {
   "cell_type": "code",
   "execution_count": 10,
   "id": "3e85dedd-e186-4ec8-b70b-d77ee2191273",
   "metadata": {},
   "outputs": [
    {
     "data": {
      "text/plain": [
       "array(['Titanium dioxide', 'Distillates (coal tar)', 'Estragole',\n",
       "       'Cocamide diethanolamine', 'Toluene',\n",
       "       'Chromium (hexavalent compounds)', 'Retinol',\n",
       "       'Retinol/retinyl esters, when in daily dosages in excess of 10,000 IU, or 3,000 retinol equivalents.',\n",
       "       'Vitamin A', 'Vitamin A palmitate', 'Butylated hydroxyanisole',\n",
       "       'Coffea arabica extract', 'Lauramide diethanolamine', 'Coffee',\n",
       "       'Silica, crystalline (airborne particles of respirable size)',\n",
       "       'Carbon black (airborne, unbound particles of respirable size)',\n",
       "       'Carbon black', 'Genistein (purified)', 'Progesterone',\n",
       "       '2,4-Hexadienal (89% trans, trans isomer; 11% cis, trans isomer)',\n",
       "       'Methyleugenol', 'Carbon-black extracts', 'Retinyl palmitate',\n",
       "       'o-Phenylphenol', 'Acrylamide', 'Formaldehyde (gas)',\n",
       "       'Ginkgo biloba extract', 'Mica', 'Ethylene glycol',\n",
       "       'Acetic acid, retinyl ester', 'Ethyl acrylate', 'Trade Secret',\n",
       "       'Methanol', 'Mineral oils, untreated and mildly treated',\n",
       "       'Diethanolamine', 'TEA-Lauryl Sulfate', 'Retinyl acetate',\n",
       "       'Lead acetate', 'Talc', 'Triethanolamine',\n",
       "       'o-Phenylenediamine and its salts', 'Safrole', 'Styrene',\n",
       "       'Acetaldehyde', 'Cocamide DEA', '1,4-Dioxane',\n",
       "       'Arsenic (inorganic arsenic compounds)', 'Dichloroacetic acid',\n",
       "       'Ethylene oxide', 'Lead', 'Dichloromethane (Methylene chloride)',\n",
       "       'Benzene', 'Benzyl chloride', 'N-Nitrosodimethylamine',\n",
       "       'Propylene oxide', 'Methyl chloride',\n",
       "       'Cadmium and cadmium compounds', 'N-Methylpyrrolidone',\n",
       "       'Di-n-butyl phthalate (DBP)', 'Coal tars',\n",
       "       'All-trans retinoic acid', 'Quinoline and its strong acid salts',\n",
       "       'Methylene glycol', 'Benzophenone', 'Cocamide', 'Lauramide DEA',\n",
       "       'Aloe vera, whole leaf extract', 'Musk xylene', 'Aspirin',\n",
       "       'Coal Tar', 'Benzophenone-3', 'Quartz',\n",
       "       'Talc containing asbestiform fibers', 'Sodium Bromate',\n",
       "       'Phenacetin', 'Arsenic (inorganic oxides)',\n",
       "       'Mercury and mercury compounds', 'p-Aminodiphenylamine',\n",
       "       'Permethrin', 'Acetylsalicylic acid', 'Coal tar extract',\n",
       "       'Selenium sulfide', 'Oil Orange SS', 'Spironolactone',\n",
       "       'Nickel (Metallic)', 'Caffeic acid', 'Cocamide MEA',\n",
       "       'Cosmetic talc', 'C.I. Acid Red 114', 'Caffeine', 'Benzophenone-4',\n",
       "       'Ethanol in alcoholic beverages', 'Formaldehyde',\n",
       "       'Cocamide diethanolamine (DEA)', 'Coffee extract',\n",
       "       'Retinol palmitate', 'Coffee bean extract',\n",
       "       'Propylene glycol mono-t-butyl ether', 'Avobenzone',\n",
       "       'Coal tar solution', 'Pulegone',\n",
       "       'Titanium dioxide (airborne, unbound particles of respirable size)',\n",
       "       'beta-Myrcene', 'Talc (powder)',\n",
       "       '2,2-Bis(bromomethyl)-1,3-propanediol', 'Benzo[a]pyrene',\n",
       "       'Benz[a]anthracene', 'Extract of coffee bean',\n",
       "       'Goldenseal root powder',\n",
       "       'Isopropyl alcohol manufacture using strong acids',\n",
       "       '2-Propyleneacrolein', 'N,N-Dimethyl-p-toluidine',\n",
       "       'Formaldehyde solution', 'N-Nitrosodiethanolamine',\n",
       "       'Benzophenone-2', 'Vinyl acetate', 'Trichloroacetic acid',\n",
       "       'Phenacemide', 'Aloe vera, non-decolorized whole leaf extract',\n",
       "       'Polygeenan', 'Diethanolamides of the fatty acids of coconut oil',\n",
       "       'Bisphenol A (BPA)', 'Hydrous magnesium silicate'], dtype=object)"
      ]
     },
     "execution_count": 10,
     "metadata": {},
     "output_type": "execute_result"
    }
   ],
   "source": [
    "cosmetics3['ChemicalName'].unique()"
   ]
  },
  {
   "cell_type": "code",
   "execution_count": 11,
   "id": "059ac38e-999b-4c50-b832-8effc075ed56",
   "metadata": {},
   "outputs": [
    {
     "data": {
      "text/plain": [
       "93564"
      ]
     },
     "execution_count": 11,
     "metadata": {},
     "output_type": "execute_result"
    }
   ],
   "source": [
    "cosmetics3['ChemicalName'].str.contains('Titanium dioxide').sum()"
   ]
  },
  {
   "cell_type": "markdown",
   "id": "5ef77c7f-ceed-46d1-b618-c7c036c0c391",
   "metadata": {},
   "source": [
    "titanium dioxide indicator "
   ]
  },
  {
   "cell_type": "code",
   "execution_count": 13,
   "id": "bcf2c64e-6a79-4432-90b4-018243c1507e",
   "metadata": {},
   "outputs": [],
   "source": [
    "for ind,row in cosmetics3.iterrows():\n",
    "    if 'Titanium dioxide' in row.ChemicalName:\n",
    "        cosmetics3.loc[ind,'Titanium_dioxide']=True\n",
    "    else : \n",
    "        cosmetics3.loc[ind,'Titanium_dioxide']=False"
   ]
  },
  {
   "cell_type": "code",
   "execution_count": 14,
   "id": "23583a55-3eb6-4c3f-8b8d-045918f7a1b7",
   "metadata": {},
   "outputs": [
    {
     "data": {
      "text/plain": [
       "Index(['ProductName', 'CompanyName', 'BrandName', 'PrimaryCategory',\n",
       "       'SubCategory', 'ChemicalName', 'InitialDateReported',\n",
       "       'MostRecentDateReported', 'DiscontinuedDate', 'ChemicalCreatedAt',\n",
       "       'ChemicalUpdatedAt', 'ChemicalDateRemoved', 'ChemicalCount',\n",
       "       'Titanium_dioxide'],\n",
       "      dtype='object')"
      ]
     },
     "execution_count": 14,
     "metadata": {},
     "output_type": "execute_result"
    }
   ],
   "source": [
    "cosmetics3.columns"
   ]
  },
  {
   "cell_type": "code",
   "execution_count": null,
   "id": "e5661473-344f-4346-8900-75901ae9902e",
   "metadata": {},
   "outputs": [],
   "source": [
    "cosmetics3"
   ]
  },
  {
   "cell_type": "markdown",
   "id": "a201b1ac-c369-4d14-8315-9feb2d0be229",
   "metadata": {},
   "source": [
    "Top 5 most common chemicals in cosmetics"
   ]
  },
  {
   "cell_type": "code",
   "execution_count": 16,
   "id": "4a8a7383-1284-4ffc-8b30-b1fa7206fc7a",
   "metadata": {},
   "outputs": [
    {
     "data": {
      "text/plain": [
       "pandas.core.frame.DataFrame"
      ]
     },
     "execution_count": 16,
     "metadata": {},
     "output_type": "execute_result"
    }
   ],
   "source": [
    "common=cosmetics3['ChemicalName'].value_counts().head(5)\n",
    "common=common.reset_index()\n",
    "type(common)"
   ]
  },
  {
   "cell_type": "code",
   "execution_count": 136,
   "id": "9c754227-6a9a-457c-8743-222de41f5cc8",
   "metadata": {},
   "outputs": [],
   "source": [
    "main=cosmetics3\n"
   ]
  },
  {
   "cell_type": "code",
   "execution_count": 138,
   "id": "03233713-0a3f-4195-89c1-32f80e32d0d0",
   "metadata": {},
   "outputs": [],
   "source": [
    "main.to_csv('main.csv')"
   ]
  },
  {
   "cell_type": "code",
   "execution_count": 17,
   "id": "7bfd2b0d-c174-4116-b14a-afd53502804c",
   "metadata": {},
   "outputs": [],
   "source": [
    "common.to_csv('common_chemicals.csv')"
   ]
  },
  {
   "cell_type": "code",
   "execution_count": 18,
   "id": "f531405f-78b6-47b4-a7a0-8869b744a2ab",
   "metadata": {},
   "outputs": [
    {
     "data": {
      "image/png": "[encoded data removed]",
      "text/plain": [
       "<Figure size 640x480 with 1 Axes>"
      ]
     },
     "metadata": {},
     "output_type": "display_data"
    }
   ],
   "source": [
    "common.plot(kind = 'bar', \n",
    "                 x = 'ChemicalName', \n",
    "                 y = 'count');"
   ]
  },
  {
   "cell_type": "markdown",
   "id": "73833174-0d4c-4a0b-b371-01fd77788248",
   "metadata": {},
   "source": [
    "Which brand has the highest percentage of products with titanium dioxide?"
   ]
  },
  {
   "cell_type": "code",
   "execution_count": 20,
   "id": "ba5d3ecb-c72d-44fb-9eb3-7f55c4f6a452",
   "metadata": {},
   "outputs": [],
   "source": [
    "products_titanium=cosmetics3.loc[cosmetics3['Titanium_dioxide']==True]"
   ]
  },
  {
   "cell_type": "code",
   "execution_count": 21,
   "id": "d064b8b0-89ca-4a04-88eb-bc3ac5cf17ab",
   "metadata": {},
   "outputs": [],
   "source": [
    "company_titanium=products_titanium['CompanyName'].value_counts().reset_index()"
   ]
  },
  {
   "cell_type": "code",
   "execution_count": 22,
   "id": "43b3462b-126b-4f79-a97a-fcc6be575f3d",
   "metadata": {},
   "outputs": [],
   "source": [
    "company_titanium=company_titanium.rename(columns= {'count':'titanium_count'})"
   ]
  },
  {
   "cell_type": "code",
   "execution_count": 23,
   "id": "5021006f-cab4-4370-b8ca-954825f91551",
   "metadata": {},
   "outputs": [],
   "source": [
    "cosmeticscounts=cosmetics3['CompanyName'].value_counts().reset_index()\n",
    "cosmeticscounts=cosmeticscounts.rename(columns={'count':'product_count'})"
   ]
  },
  {
   "cell_type": "code",
   "execution_count": 24,
   "id": "9defafd6-dc08-4e34-8631-d3d1195b3628",
   "metadata": {},
   "outputs": [],
   "source": [
    "titanium_and_company=pd.merge(company_titanium,cosmeticscounts,on='CompanyName')"
   ]
  },
  {
   "cell_type": "code",
   "execution_count": 25,
   "id": "df887a49-2a99-4a91-9f53-119599a15747",
   "metadata": {},
   "outputs": [
    {
     "data": {
      "text/html": [
       "<div>\n",
       "<style scoped>\n",
       "    .dataframe tbody tr th:only-of-type {\n",
       "        vertical-align: middle;\n",
       "    }\n",
       "\n",
       "    .dataframe tbody tr th {\n",
       "        vertical-align: top;\n",
       "    }\n",
       "\n",
       "    .dataframe thead th {\n",
       "        text-align: right;\n",
       "    }\n",
       "</style>\n",
       "<table border=\"1\" class=\"dataframe\">\n",
       "  <thead>\n",
       "    <tr style=\"text-align: right;\">\n",
       "      <th></th>\n",
       "      <th>CompanyName</th>\n",
       "      <th>titanium_count</th>\n",
       "      <th>product_count</th>\n",
       "    </tr>\n",
       "  </thead>\n",
       "  <tbody>\n",
       "    <tr>\n",
       "      <th>0</th>\n",
       "      <td>L'Oreal USA</td>\n",
       "      <td>5743</td>\n",
       "      <td>5747</td>\n",
       "    </tr>\n",
       "    <tr>\n",
       "      <th>1</th>\n",
       "      <td>Revlon Consumer Product Corporation</td>\n",
       "      <td>4226</td>\n",
       "      <td>4341</td>\n",
       "    </tr>\n",
       "    <tr>\n",
       "      <th>2</th>\n",
       "      <td>S+</td>\n",
       "      <td>3990</td>\n",
       "      <td>5165</td>\n",
       "    </tr>\n",
       "    <tr>\n",
       "      <th>3</th>\n",
       "      <td>Coty</td>\n",
       "      <td>3792</td>\n",
       "      <td>5162</td>\n",
       "    </tr>\n",
       "    <tr>\n",
       "      <th>4</th>\n",
       "      <td>Bare Escentuals Beauty, Inc.</td>\n",
       "      <td>3782</td>\n",
       "      <td>3828</td>\n",
       "    </tr>\n",
       "    <tr>\n",
       "      <th>...</th>\n",
       "      <td>...</td>\n",
       "      <td>...</td>\n",
       "      <td>...</td>\n",
       "    </tr>\n",
       "    <tr>\n",
       "      <th>452</th>\n",
       "      <td>PureTek Corporation</td>\n",
       "      <td>1</td>\n",
       "      <td>1</td>\n",
       "    </tr>\n",
       "    <tr>\n",
       "      <th>453</th>\n",
       "      <td>2355644 Ontario Inc.</td>\n",
       "      <td>1</td>\n",
       "      <td>1</td>\n",
       "    </tr>\n",
       "    <tr>\n",
       "      <th>454</th>\n",
       "      <td>Pettenon Cosmetici srl</td>\n",
       "      <td>1</td>\n",
       "      <td>6</td>\n",
       "    </tr>\n",
       "    <tr>\n",
       "      <th>455</th>\n",
       "      <td>Ladove Inc</td>\n",
       "      <td>1</td>\n",
       "      <td>1</td>\n",
       "    </tr>\n",
       "    <tr>\n",
       "      <th>456</th>\n",
       "      <td>The Kama Sutra</td>\n",
       "      <td>1</td>\n",
       "      <td>1</td>\n",
       "    </tr>\n",
       "  </tbody>\n",
       "</table>\n",
       "<p>457 rows × 3 columns</p>\n",
       "</div>"
      ],
      "text/plain": [
       "                             CompanyName  titanium_count  product_count\n",
       "0                            L'Oreal USA            5743           5747\n",
       "1    Revlon Consumer Product Corporation            4226           4341\n",
       "2                                     S+            3990           5165\n",
       "3                                   Coty            3792           5162\n",
       "4           Bare Escentuals Beauty, Inc.            3782           3828\n",
       "..                                   ...             ...            ...\n",
       "452                  PureTek Corporation               1              1\n",
       "453                 2355644 Ontario Inc.               1              1\n",
       "454               Pettenon Cosmetici srl               1              6\n",
       "455                           Ladove Inc               1              1\n",
       "456                       The Kama Sutra               1              1\n",
       "\n",
       "[457 rows x 3 columns]"
      ]
     },
     "execution_count": 25,
     "metadata": {},
     "output_type": "execute_result"
    }
   ],
   "source": [
    "titanium_and_company"
   ]
  },
  {
   "cell_type": "code",
   "execution_count": 26,
   "id": "6a5bfa75-cfd7-45f8-838b-f14023a987e4",
   "metadata": {},
   "outputs": [],
   "source": [
    "titanium_and_company=titanium_and_company[titanium_and_company['product_count']>titanium_and_company['titanium_count']]"
   ]
  },
  {
   "cell_type": "code",
   "execution_count": 27,
   "id": "c1021f03-1e5e-4e94-bf6a-e55d6f411806",
   "metadata": {},
   "outputs": [
    {
     "name": "stderr",
     "output_type": "stream",
     "text": [
      "C:\\Users\\epoh2\\AppData\\Local\\Temp\\ipykernel_39348\\2566838901.py:1: SettingWithCopyWarning: \n",
      "A value is trying to be set on a copy of a slice from a DataFrame.\n",
      "Try using .loc[row_indexer,col_indexer] = value instead\n",
      "\n",
      "See the caveats in the documentation: https://pandas.pydata.org/pandas-docs/stable/user_guide/indexing.html#returning-a-view-versus-a-copy\n",
      "  titanium_and_company['percent_titanium_dioxide']= titanium_and_company['titanium_count']/titanium_and_company['product_count']\n",
      "C:\\Users\\epoh2\\AppData\\Local\\Temp\\ipykernel_39348\\2566838901.py:2: SettingWithCopyWarning: \n",
      "A value is trying to be set on a copy of a slice from a DataFrame.\n",
      "Try using .loc[row_indexer,col_indexer] = value instead\n",
      "\n",
      "See the caveats in the documentation: https://pandas.pydata.org/pandas-docs/stable/user_guide/indexing.html#returning-a-view-versus-a-copy\n",
      "  titanium_and_company['percent_titanium_dioxide']=titanium_and_company['percent_titanium_dioxide'].sort_values(ascending=False)\n"
     ]
    }
   ],
   "source": [
    "titanium_and_company['percent_titanium_dioxide']= titanium_and_company['titanium_count']/titanium_and_company['product_count']\n",
    "titanium_and_company['percent_titanium_dioxide']=titanium_and_company['percent_titanium_dioxide'].sort_values(ascending=False)"
   ]
  },
  {
   "cell_type": "code",
   "execution_count": 28,
   "id": "24d7b818-2b8f-470c-abbb-ca0eaea5f165",
   "metadata": {},
   "outputs": [
    {
     "name": "stderr",
     "output_type": "stream",
     "text": [
      "C:\\Users\\epoh2\\AppData\\Local\\Temp\\ipykernel_39348\\1553889889.py:1: SettingWithCopyWarning: \n",
      "A value is trying to be set on a copy of a slice from a DataFrame.\n",
      "Try using .loc[row_indexer,col_indexer] = value instead\n",
      "\n",
      "See the caveats in the documentation: https://pandas.pydata.org/pandas-docs/stable/user_guide/indexing.html#returning-a-view-versus-a-copy\n",
      "  titanium_and_company['percent_titanium_dioxide']=titanium_and_company['percent_titanium_dioxide'].apply(lambda x: '{:.2%}'.format(x))\n"
     ]
    }
   ],
   "source": [
    "titanium_and_company['percent_titanium_dioxide']=titanium_and_company['percent_titanium_dioxide'].apply(lambda x: '{:.2%}'.format(x))"
   ]
  },
  {
   "cell_type": "code",
   "execution_count": 29,
   "id": "3cabf97b-5059-4a1c-9d9d-7547aa8187e2",
   "metadata": {},
   "outputs": [
    {
     "data": {
      "text/html": [
       "<div>\n",
       "<style scoped>\n",
       "    .dataframe tbody tr th:only-of-type {\n",
       "        vertical-align: middle;\n",
       "    }\n",
       "\n",
       "    .dataframe tbody tr th {\n",
       "        vertical-align: top;\n",
       "    }\n",
       "\n",
       "    .dataframe thead th {\n",
       "        text-align: right;\n",
       "    }\n",
       "</style>\n",
       "<table border=\"1\" class=\"dataframe\">\n",
       "  <thead>\n",
       "    <tr style=\"text-align: right;\">\n",
       "      <th></th>\n",
       "      <th>CompanyName</th>\n",
       "      <th>titanium_count</th>\n",
       "      <th>product_count</th>\n",
       "      <th>percent_titanium_dioxide</th>\n",
       "    </tr>\n",
       "  </thead>\n",
       "  <tbody>\n",
       "    <tr>\n",
       "      <th>0</th>\n",
       "      <td>L'Oreal USA</td>\n",
       "      <td>5743</td>\n",
       "      <td>5747</td>\n",
       "      <td>99.93%</td>\n",
       "    </tr>\n",
       "    <tr>\n",
       "      <th>52</th>\n",
       "      <td>KOS� America, Inc.</td>\n",
       "      <td>423</td>\n",
       "      <td>424</td>\n",
       "      <td>99.76%</td>\n",
       "    </tr>\n",
       "    <tr>\n",
       "      <th>43</th>\n",
       "      <td>Shiseido Co., Ltd.</td>\n",
       "      <td>565</td>\n",
       "      <td>567</td>\n",
       "      <td>99.65%</td>\n",
       "    </tr>\n",
       "    <tr>\n",
       "      <th>12</th>\n",
       "      <td>Beauty 21 Cosmetics, Inc.</td>\n",
       "      <td>1670</td>\n",
       "      <td>1676</td>\n",
       "      <td>99.64%</td>\n",
       "    </tr>\n",
       "    <tr>\n",
       "      <th>75</th>\n",
       "      <td>Bonne Bell, LLC</td>\n",
       "      <td>253</td>\n",
       "      <td>254</td>\n",
       "      <td>99.61%</td>\n",
       "    </tr>\n",
       "  </tbody>\n",
       "</table>\n",
       "</div>"
      ],
      "text/plain": [
       "                  CompanyName  titanium_count  product_count  \\\n",
       "0                 L'Oreal USA            5743           5747   \n",
       "52         KOS� America, Inc.             423            424   \n",
       "43         Shiseido Co., Ltd.             565            567   \n",
       "12  Beauty 21 Cosmetics, Inc.            1670           1676   \n",
       "75            Bonne Bell, LLC             253            254   \n",
       "\n",
       "   percent_titanium_dioxide  \n",
       "0                    99.93%  \n",
       "52                   99.76%  \n",
       "43                   99.65%  \n",
       "12                   99.64%  \n",
       "75                   99.61%  "
      ]
     },
     "execution_count": 29,
     "metadata": {},
     "output_type": "execute_result"
    }
   ],
   "source": [
    "titanium_and_company.sort_values('percent_titanium_dioxide',ascending=False).head(5)"
   ]
  },
  {
   "cell_type": "code",
   "execution_count": null,
   "id": "700b37a7-2274-4909-8fc8-d126e713b545",
   "metadata": {},
   "outputs": [],
   "source": []
  },
  {
   "cell_type": "code",
   "execution_count": 30,
   "id": "0fe18612-0448-4612-9587-1576b421158a",
   "metadata": {},
   "outputs": [],
   "source": [
    "titanium_and_company.to_csv('titanium_and_company.csv')"
   ]
  },
  {
   "cell_type": "markdown",
   "id": "ac063e5a-2c1d-4927-aabc-9834dcac5b5d",
   "metadata": {},
   "source": [
    "Are certain chemicals product category specific?"
   ]
  },
  {
   "cell_type": "code",
   "execution_count": 32,
   "id": "c59ec096-8041-43f2-bdd4-46011cbe3d8f",
   "metadata": {},
   "outputs": [
    {
     "data": {
      "text/plain": [
       "SubCategory                              ChemicalName                                                                                       \n",
       "Acne Products (making a cosmetic claim)  Titanium dioxide                                                                                       138\n",
       "                                         Retinol                                                                                                  6\n",
       "                                         Retinol/retinyl esters, when in daily dosages in excess of 10,000 IU, or 3,000 retinol equivalents.      5\n",
       "                                         Triethanolamine                                                                                          5\n",
       "                                         Cocamide MEA                                                                                             3\n",
       "                                                                                                                                               ... \n",
       "Underarm Deodorants                      Butylated hydroxyanisole                                                                                 3\n",
       "                                         Cosmetic talc                                                                                            3\n",
       "                                         Safrole                                                                                                  2\n",
       "                                         Retinol/retinyl esters, when in daily dosages in excess of 10,000 IU, or 3,000 retinol equivalents.      1\n",
       "                                         Talc                                                                                                     1\n",
       "Name: count, Length: 1249, dtype: int64"
      ]
     },
     "execution_count": 32,
     "metadata": {},
     "output_type": "execute_result"
    }
   ],
   "source": [
    "cosmetics3.groupby('SubCategory')['ChemicalName'].value_counts()"
   ]
  },
  {
   "cell_type": "code",
   "execution_count": 33,
   "id": "8923242b-ed4f-43b3-8a49-3c13e1c346e5",
   "metadata": {},
   "outputs": [],
   "source": [
    "top5=cosmetics3['SubCategory'].value_counts().head().reset_index().SubCategory"
   ]
  },
  {
   "cell_type": "code",
   "execution_count": 34,
   "id": "e10f5db5-5e18-4ea6-a393-4bedb052ec8b",
   "metadata": {},
   "outputs": [],
   "source": [
    "top5=cosmetics3.loc[cosmetics3.SubCategory.isin(top5)]"
   ]
  },
  {
   "cell_type": "code",
   "execution_count": 35,
   "id": "43fa2bf7-a8cb-4720-b92f-045cdeaf1365",
   "metadata": {},
   "outputs": [],
   "source": [
    "top5_df=top5.groupby('SubCategory')['ChemicalName'].value_counts().reset_index()"
   ]
  },
  {
   "cell_type": "code",
   "execution_count": 36,
   "id": "98d2aa36-290c-405c-9b93-9ea632689b1c",
   "metadata": {},
   "outputs": [],
   "source": [
    "top5_df['rank']=top5_df.groupby('SubCategory')['count'].rank(ascending=False)"
   ]
  },
  {
   "cell_type": "code",
   "execution_count": 37,
   "id": "1b6f270e-d9d3-4461-aab3-048f8f812162",
   "metadata": {},
   "outputs": [],
   "source": [
    "top5_df=top5_df.loc[top5_df['rank']<=5.0]"
   ]
  },
  {
   "cell_type": "code",
   "execution_count": 38,
   "id": "7d6192ca-7d49-4dde-8b75-eb2c0c69ab7b",
   "metadata": {},
   "outputs": [],
   "source": [
    "top5_df.to_csv('top5_titanium.csv')"
   ]
  },
  {
   "cell_type": "code",
   "execution_count": 122,
   "id": "81e00c7a-0e4d-4a9b-90fa-c5a8254e6365",
   "metadata": {},
   "outputs": [
    {
     "data": {
      "text/html": [
       "<div>\n",
       "<style scoped>\n",
       "    .dataframe tbody tr th:only-of-type {\n",
       "        vertical-align: middle;\n",
       "    }\n",
       "\n",
       "    .dataframe tbody tr th {\n",
       "        vertical-align: top;\n",
       "    }\n",
       "\n",
       "    .dataframe thead th {\n",
       "        text-align: right;\n",
       "    }\n",
       "</style>\n",
       "<table border=\"1\" class=\"dataframe\">\n",
       "  <thead>\n",
       "    <tr style=\"text-align: right;\">\n",
       "      <th></th>\n",
       "      <th>CompanyName</th>\n",
       "      <th>titanium_count</th>\n",
       "      <th>product_count</th>\n",
       "      <th>percent_titanium_dioxide</th>\n",
       "    </tr>\n",
       "  </thead>\n",
       "  <tbody>\n",
       "    <tr>\n",
       "      <th>0</th>\n",
       "      <td>L'Oreal USA</td>\n",
       "      <td>5743</td>\n",
       "      <td>5747</td>\n",
       "      <td>99.93%</td>\n",
       "    </tr>\n",
       "    <tr>\n",
       "      <th>1</th>\n",
       "      <td>Revlon Consumer Product Corporation</td>\n",
       "      <td>4226</td>\n",
       "      <td>4341</td>\n",
       "      <td>97.35%</td>\n",
       "    </tr>\n",
       "    <tr>\n",
       "      <th>2</th>\n",
       "      <td>S+</td>\n",
       "      <td>3990</td>\n",
       "      <td>5165</td>\n",
       "      <td>77.25%</td>\n",
       "    </tr>\n",
       "    <tr>\n",
       "      <th>3</th>\n",
       "      <td>Coty</td>\n",
       "      <td>3792</td>\n",
       "      <td>5162</td>\n",
       "      <td>73.46%</td>\n",
       "    </tr>\n",
       "    <tr>\n",
       "      <th>4</th>\n",
       "      <td>Bare Escentuals Beauty, Inc.</td>\n",
       "      <td>3782</td>\n",
       "      <td>3828</td>\n",
       "      <td>98.80%</td>\n",
       "    </tr>\n",
       "    <tr>\n",
       "      <th>...</th>\n",
       "      <td>...</td>\n",
       "      <td>...</td>\n",
       "      <td>...</td>\n",
       "      <td>...</td>\n",
       "    </tr>\n",
       "    <tr>\n",
       "      <th>445</th>\n",
       "      <td>California Mango</td>\n",
       "      <td>1</td>\n",
       "      <td>3</td>\n",
       "      <td>33.33%</td>\n",
       "    </tr>\n",
       "    <tr>\n",
       "      <th>446</th>\n",
       "      <td>Unite Eurotherapy</td>\n",
       "      <td>1</td>\n",
       "      <td>18</td>\n",
       "      <td>5.56%</td>\n",
       "    </tr>\n",
       "    <tr>\n",
       "      <th>447</th>\n",
       "      <td>CALIFORNIA NORTH</td>\n",
       "      <td>1</td>\n",
       "      <td>4</td>\n",
       "      <td>25.00%</td>\n",
       "    </tr>\n",
       "    <tr>\n",
       "      <th>448</th>\n",
       "      <td>Ca-botana International</td>\n",
       "      <td>1</td>\n",
       "      <td>2</td>\n",
       "      <td>50.00%</td>\n",
       "    </tr>\n",
       "    <tr>\n",
       "      <th>454</th>\n",
       "      <td>Pettenon Cosmetici srl</td>\n",
       "      <td>1</td>\n",
       "      <td>6</td>\n",
       "      <td>16.67%</td>\n",
       "    </tr>\n",
       "  </tbody>\n",
       "</table>\n",
       "<p>286 rows × 4 columns</p>\n",
       "</div>"
      ],
      "text/plain": [
       "                             CompanyName  titanium_count  product_count  \\\n",
       "0                            L'Oreal USA            5743           5747   \n",
       "1    Revlon Consumer Product Corporation            4226           4341   \n",
       "2                                     S+            3990           5165   \n",
       "3                                   Coty            3792           5162   \n",
       "4           Bare Escentuals Beauty, Inc.            3782           3828   \n",
       "..                                   ...             ...            ...   \n",
       "445                     California Mango               1              3   \n",
       "446                    Unite Eurotherapy               1             18   \n",
       "447                     CALIFORNIA NORTH               1              4   \n",
       "448              Ca-botana International               1              2   \n",
       "454               Pettenon Cosmetici srl               1              6   \n",
       "\n",
       "    percent_titanium_dioxide  \n",
       "0                     99.93%  \n",
       "1                     97.35%  \n",
       "2                     77.25%  \n",
       "3                     73.46%  \n",
       "4                     98.80%  \n",
       "..                       ...  \n",
       "445                   33.33%  \n",
       "446                    5.56%  \n",
       "447                   25.00%  \n",
       "448                   50.00%  \n",
       "454                   16.67%  \n",
       "\n",
       "[286 rows x 4 columns]"
      ]
     },
     "execution_count": 122,
     "metadata": {},
     "output_type": "execute_result"
    }
   ],
   "source": []
  },
  {
   "cell_type": "markdown",
   "id": "4b02dc44-b794-4c1f-8e67-c973df583b02",
   "metadata": {},
   "source": [
    "Chemicals that cause cancer"
   ]
  },
  {
   "cell_type": "code",
   "execution_count": 40,
   "id": "49ee6de4-0e82-41c4-967d-24cdab598a93",
   "metadata": {},
   "outputs": [],
   "source": [
    "carcinogens=pd.read_csv('list_of_chemicals.csv')"
   ]
  },
  {
   "cell_type": "code",
   "execution_count": 41,
   "id": "893c317f-36ba-470b-b43b-6b9735b0d9ed",
   "metadata": {},
   "outputs": [
    {
     "data": {
      "text/plain": [
       "Group\n",
       "3     501\n",
       "2B    322\n",
       "1     133\n",
       "2A     96\n",
       "Name: count, dtype: int64"
      ]
     },
     "execution_count": 41,
     "metadata": {},
     "output_type": "execute_result"
    }
   ],
   "source": [
    "carcinogens['Group'].value_counts()"
   ]
  },
  {
   "cell_type": "code",
   "execution_count": 42,
   "id": "dffa1bbc-4cf7-438a-b5c6-be61c39dd175",
   "metadata": {},
   "outputs": [
    {
     "data": {
      "text/plain": [
       "array([nan, '1', '2A', '2B', '3'], dtype=object)"
      ]
     },
     "execution_count": 42,
     "metadata": {},
     "output_type": "execute_result"
    }
   ],
   "source": [
    "carcinogens['Group'].unique()"
   ]
  },
  {
   "cell_type": "code",
   "execution_count": 43,
   "id": "09165326-fdbc-4361-8054-9cf20a7e55ef",
   "metadata": {},
   "outputs": [
    {
     "data": {
      "text/html": [
       "<div>\n",
       "<style scoped>\n",
       "    .dataframe tbody tr th:only-of-type {\n",
       "        vertical-align: middle;\n",
       "    }\n",
       "\n",
       "    .dataframe tbody tr th {\n",
       "        vertical-align: top;\n",
       "    }\n",
       "\n",
       "    .dataframe thead th {\n",
       "        text-align: right;\n",
       "    }\n",
       "</style>\n",
       "<table border=\"1\" class=\"dataframe\">\n",
       "  <thead>\n",
       "    <tr style=\"text-align: right;\">\n",
       "      <th></th>\n",
       "      <th>CAS No.</th>\n",
       "      <th>Agent</th>\n",
       "      <th>Group</th>\n",
       "      <th>Volume</th>\n",
       "      <th>Volume publication year</th>\n",
       "      <th>Evaluation year</th>\n",
       "      <th>Additional information</th>\n",
       "    </tr>\n",
       "  </thead>\n",
       "  <tbody>\n",
       "    <tr>\n",
       "      <th>68</th>\n",
       "      <td>NaN</td>\n",
       "      <td>Clonorchis sinensis (infection with)</td>\n",
       "      <td>1</td>\n",
       "      <td>61, 100B</td>\n",
       "      <td>2012</td>\n",
       "      <td>2009.0</td>\n",
       "      <td>NaN</td>\n",
       "    </tr>\n",
       "    <tr>\n",
       "      <th>69</th>\n",
       "      <td>NaN</td>\n",
       "      <td>Helicobacter pylori (infection with)</td>\n",
       "      <td>1</td>\n",
       "      <td>61, 100B</td>\n",
       "      <td>2012</td>\n",
       "      <td>2009.0</td>\n",
       "      <td>NaN</td>\n",
       "    </tr>\n",
       "    <tr>\n",
       "      <th>70</th>\n",
       "      <td>NaN</td>\n",
       "      <td>Opisthorchis viverrini (infection with)</td>\n",
       "      <td>1</td>\n",
       "      <td>61, 100B</td>\n",
       "      <td>2012</td>\n",
       "      <td>2009.0</td>\n",
       "      <td>NaN</td>\n",
       "    </tr>\n",
       "    <tr>\n",
       "      <th>71</th>\n",
       "      <td>NaN</td>\n",
       "      <td>Schistosoma haematobium (infection with)</td>\n",
       "      <td>1</td>\n",
       "      <td>61, 100B</td>\n",
       "      <td>2012</td>\n",
       "      <td>2009.0</td>\n",
       "      <td>NaN</td>\n",
       "    </tr>\n",
       "    <tr>\n",
       "      <th>72</th>\n",
       "      <td>NaN</td>\n",
       "      <td>Acheson process, occupational exposure associa...</td>\n",
       "      <td>1</td>\n",
       "      <td>111</td>\n",
       "      <td>2017</td>\n",
       "      <td>2014.0</td>\n",
       "      <td>NaN</td>\n",
       "    </tr>\n",
       "    <tr>\n",
       "      <th>...</th>\n",
       "      <td>...</td>\n",
       "      <td>...</td>\n",
       "      <td>...</td>\n",
       "      <td>...</td>\n",
       "      <td>...</td>\n",
       "      <td>...</td>\n",
       "      <td>...</td>\n",
       "    </tr>\n",
       "    <tr>\n",
       "      <th>196</th>\n",
       "      <td>87-86-5</td>\n",
       "      <td>Pentachlorophenol (see also Polychlorophenols)</td>\n",
       "      <td>1</td>\n",
       "      <td>53, 71, 117</td>\n",
       "      <td>2019</td>\n",
       "      <td>2016.0</td>\n",
       "      <td>NaN</td>\n",
       "    </tr>\n",
       "    <tr>\n",
       "      <th>197</th>\n",
       "      <td>91-59-8</td>\n",
       "      <td>2-Naphthylamine</td>\n",
       "      <td>1</td>\n",
       "      <td>4, Sup 7, 99, 100F</td>\n",
       "      <td>2012</td>\n",
       "      <td>2009.0</td>\n",
       "      <td>NaN</td>\n",
       "    </tr>\n",
       "    <tr>\n",
       "      <th>198</th>\n",
       "      <td>92-67-1</td>\n",
       "      <td>4-Aminobiphenyl</td>\n",
       "      <td>1</td>\n",
       "      <td>1, Sup 7, 99, 100F</td>\n",
       "      <td>2012</td>\n",
       "      <td>2009.0</td>\n",
       "      <td>NaN</td>\n",
       "    </tr>\n",
       "    <tr>\n",
       "      <th>199</th>\n",
       "      <td>92-87-5</td>\n",
       "      <td>Benzidine</td>\n",
       "      <td>1</td>\n",
       "      <td>29, Sup 7, 99, 100F</td>\n",
       "      <td>2012</td>\n",
       "      <td>2009.0</td>\n",
       "      <td>NaN</td>\n",
       "    </tr>\n",
       "    <tr>\n",
       "      <th>200</th>\n",
       "      <td>95-53-4</td>\n",
       "      <td>ortho-Toluidine</td>\n",
       "      <td>1</td>\n",
       "      <td>Sup 7, 77, 99, 100F</td>\n",
       "      <td>2012</td>\n",
       "      <td>2009.0</td>\n",
       "      <td>NaN</td>\n",
       "    </tr>\n",
       "  </tbody>\n",
       "</table>\n",
       "<p>133 rows × 7 columns</p>\n",
       "</div>"
      ],
      "text/plain": [
       "     CAS No.                                              Agent Group  \\\n",
       "68       NaN               Clonorchis sinensis (infection with)     1   \n",
       "69       NaN               Helicobacter pylori (infection with)     1   \n",
       "70       NaN            Opisthorchis viverrini (infection with)     1   \n",
       "71       NaN           Schistosoma haematobium (infection with)     1   \n",
       "72       NaN  Acheson process, occupational exposure associa...     1   \n",
       "..       ...                                                ...   ...   \n",
       "196  87-86-5     Pentachlorophenol (see also Polychlorophenols)     1   \n",
       "197  91-59-8                                    2-Naphthylamine     1   \n",
       "198  92-67-1                                    4-Aminobiphenyl     1   \n",
       "199  92-87-5                                          Benzidine     1   \n",
       "200  95-53-4                                    ortho-Toluidine     1   \n",
       "\n",
       "                  Volume Volume publication year  Evaluation year  \\\n",
       "68              61, 100B                    2012           2009.0   \n",
       "69              61, 100B                    2012           2009.0   \n",
       "70              61, 100B                    2012           2009.0   \n",
       "71              61, 100B                    2012           2009.0   \n",
       "72                   111                    2017           2014.0   \n",
       "..                   ...                     ...              ...   \n",
       "196          53, 71, 117                    2019           2016.0   \n",
       "197   4, Sup 7, 99, 100F                    2012           2009.0   \n",
       "198   1, Sup 7, 99, 100F                    2012           2009.0   \n",
       "199  29, Sup 7, 99, 100F                    2012           2009.0   \n",
       "200  Sup 7, 77, 99, 100F                    2012           2009.0   \n",
       "\n",
       "    Additional information  \n",
       "68                     NaN  \n",
       "69                     NaN  \n",
       "70                     NaN  \n",
       "71                     NaN  \n",
       "72                     NaN  \n",
       "..                     ...  \n",
       "196                    NaN  \n",
       "197                    NaN  \n",
       "198                    NaN  \n",
       "199                    NaN  \n",
       "200                    NaN  \n",
       "\n",
       "[133 rows x 7 columns]"
      ]
     },
     "execution_count": 43,
     "metadata": {},
     "output_type": "execute_result"
    }
   ],
   "source": [
    "carcinogens.loc[carcinogens['Group']=='1']"
   ]
  },
  {
   "cell_type": "code",
   "execution_count": 44,
   "id": "66b3cd0e-9086-473e-aacc-32edc3b94798",
   "metadata": {},
   "outputs": [],
   "source": [
    "for ind,row in carcinogens.iterrows():\n",
    "    group_str= str(row.Group)\n",
    "    if '1' in group_str:\n",
    "        carcinogens.loc[ind,'Causes_cancer']='Carcinogenic to humans'\n",
    "    if '2A'in group_str:\n",
    "        carcinogens.loc[ind,'Causes_cancer']='Possibly Carcinogenic '\n",
    "    if '2B' in group_str:\n",
    "        carcinogens.loc[ind,'Causes_cancer']='Possibly Carcinogenic'\n",
    "    if '3' in group_str:\n",
    "        carcinogens.loc[ind,'Causes_cancer']='Not classifiable'\n",
    "    else : \n",
    "        carcinogens.loc[ind,'Causes_cancer']='N/A'"
   ]
  },
  {
   "cell_type": "code",
   "execution_count": 116,
   "id": "7aa08aee-d5c3-46b6-841b-28cc793c048f",
   "metadata": {},
   "outputs": [
    {
     "data": {
      "text/html": [
       "<div>\n",
       "<style scoped>\n",
       "    .dataframe tbody tr th:only-of-type {\n",
       "        vertical-align: middle;\n",
       "    }\n",
       "\n",
       "    .dataframe tbody tr th {\n",
       "        vertical-align: top;\n",
       "    }\n",
       "\n",
       "    .dataframe thead th {\n",
       "        text-align: right;\n",
       "    }\n",
       "</style>\n",
       "<table border=\"1\" class=\"dataframe\">\n",
       "  <thead>\n",
       "    <tr style=\"text-align: right;\">\n",
       "      <th></th>\n",
       "      <th>CAS No.</th>\n",
       "      <th>Agent</th>\n",
       "      <th>Group</th>\n",
       "      <th>Volume</th>\n",
       "      <th>Volume publication year</th>\n",
       "      <th>Evaluation year</th>\n",
       "      <th>Additional information</th>\n",
       "      <th>Causes_cancer</th>\n",
       "    </tr>\n",
       "  </thead>\n",
       "  <tbody>\n",
       "  </tbody>\n",
       "</table>\n",
       "</div>"
      ],
      "text/plain": [
       "Empty DataFrame\n",
       "Columns: [CAS No., Agent, Group, Volume, Volume publication year, Evaluation year, Additional information, Causes_cancer]\n",
       "Index: []"
      ]
     },
     "execution_count": 116,
     "metadata": {},
     "output_type": "execute_result"
    }
   ],
   "source": [
    "carcinogens[carcinogens['Causes_cancer'] == 'Carcinogenic to humans']"
   ]
  },
  {
   "cell_type": "code",
   "execution_count": null,
   "id": "f4bbf35d-4a7a-4720-8bf4-890750c4aa42",
   "metadata": {},
   "outputs": [],
   "source": []
  },
  {
   "cell_type": "markdown",
   "id": "b040909d-2152-45a6-a2ef-12eef7c163a9",
   "metadata": {},
   "source": [
    "Are harmful chemicals more likely to be seen in cheaper products?"
   ]
  },
  {
   "cell_type": "code",
   "execution_count": null,
   "id": "8f774016-1e82-4c32-992c-3a69aea2d6e8",
   "metadata": {},
   "outputs": [],
   "source": []
  },
  {
   "cell_type": "code",
   "execution_count": 47,
   "id": "4373710d-1f4f-4eb8-858a-f76ab03dab4f",
   "metadata": {},
   "outputs": [
    {
     "data": {
      "text/plain": [
       "CompanyName\n",
       "L'Oreal USA                            5747\n",
       "S+                                     5165\n",
       "Coty                                   5162\n",
       "Revlon Consumer Product Corporation    4341\n",
       "Bare Escentuals Beauty, Inc.           3828\n",
       "                                       ... \n",
       "Hada S.A.                                 1\n",
       "LES SALONS DU PALAIS ROYAL SHISEIDO       1\n",
       "Tupperware U.S., Inc.                     1\n",
       "OSEA Malibu                               1\n",
       "Turquise Global LLC                       1\n",
       "Name: count, Length: 606, dtype: int64"
      ]
     },
     "execution_count": 47,
     "metadata": {},
     "output_type": "execute_result"
    }
   ],
   "source": [
    "cosmetics3['CompanyName'].value_counts()"
   ]
  },
  {
   "cell_type": "code",
   "execution_count": null,
   "id": "39148165-775f-48bf-a8ac-3136f6f3d509",
   "metadata": {},
   "outputs": [],
   "source": []
  },
  {
   "cell_type": "code",
   "execution_count": 48,
   "id": "274f6e8b-0182-471c-a15b-fd57c441aa07",
   "metadata": {},
   "outputs": [
    {
     "name": "stdout",
     "output_type": "stream",
     "text": [
      "<class 'pandas.core.frame.DataFrame'>\n",
      "RangeIndex: 1472 entries, 0 to 1471\n",
      "Data columns (total 11 columns):\n",
      " #   Column       Non-Null Count  Dtype  \n",
      "---  ------       --------------  -----  \n",
      " 0   Label        1472 non-null   object \n",
      " 1   Brand        1472 non-null   object \n",
      " 2   Name         1472 non-null   object \n",
      " 3   Price        1472 non-null   int64  \n",
      " 4   Rank         1472 non-null   float64\n",
      " 5   Ingredients  1472 non-null   object \n",
      " 6   Combination  1472 non-null   int64  \n",
      " 7   Dry          1472 non-null   int64  \n",
      " 8   Normal       1472 non-null   int64  \n",
      " 9   Oily         1472 non-null   int64  \n",
      " 10  Sensitive    1472 non-null   int64  \n",
      "dtypes: float64(1), int64(6), object(4)\n",
      "memory usage: 126.6+ KB\n"
     ]
    }
   ],
   "source": [
    "cosmetics.info()"
   ]
  },
  {
   "cell_type": "code",
   "execution_count": 49,
   "id": "8421ed61-cf12-42d3-9d1a-7995a66c997e",
   "metadata": {},
   "outputs": [
    {
     "data": {
      "text/plain": [
       "Label          0\n",
       "Brand          0\n",
       "Name           0\n",
       "Price          0\n",
       "Rank           0\n",
       "Ingredients    0\n",
       "Combination    0\n",
       "Dry            0\n",
       "Normal         0\n",
       "Oily           0\n",
       "Sensitive      0\n",
       "dtype: int64"
      ]
     },
     "execution_count": 49,
     "metadata": {},
     "output_type": "execute_result"
    }
   ],
   "source": [
    "cosmetics.isna().sum()"
   ]
  },
  {
   "cell_type": "code",
   "execution_count": 50,
   "id": "6b1e0739-57e1-415a-87c2-fd5f07c5f953",
   "metadata": {},
   "outputs": [
    {
     "data": {
      "text/plain": [
       "<bound method IndexOpsMixin.value_counts of 0                              LA MER\n",
       "1                               SK-II\n",
       "2                      DRUNK ELEPHANT\n",
       "3                              LA MER\n",
       "4                        IT COSMETICS\n",
       "                    ...              \n",
       "1467                           KORRES\n",
       "1468                  KATE SOMERVILLE\n",
       "1469                    VITA LIBERATA\n",
       "1470    ST. TROPEZ TANNING ESSENTIALS\n",
       "1471                       DERMAFLASH\n",
       "Name: Brand, Length: 1472, dtype: object>"
      ]
     },
     "execution_count": 50,
     "metadata": {},
     "output_type": "execute_result"
    }
   ],
   "source": [
    "cosmetics['Brand'].value_counts"
   ]
  },
  {
   "cell_type": "code",
   "execution_count": 51,
   "id": "3d21c680-3cd2-438b-bd44-2957ce1ad37b",
   "metadata": {},
   "outputs": [
    {
     "data": {
      "text/plain": [
       "Label\n",
       "Moisturizer    298\n",
       "Cleanser       281\n",
       "Face Mask      266\n",
       "Treatment      248\n",
       "Eye cream      209\n",
       "Sun protect    170\n",
       "Name: count, dtype: int64"
      ]
     },
     "execution_count": 51,
     "metadata": {},
     "output_type": "execute_result"
    }
   ],
   "source": [
    "cosmetics['Label'].value_counts()"
   ]
  },
  {
   "cell_type": "code",
   "execution_count": null,
   "id": "5a25493c-a4c9-438f-a82a-2024bb2f82a2",
   "metadata": {},
   "outputs": [],
   "source": []
  },
  {
   "cell_type": "code",
   "execution_count": 52,
   "id": "d1248bbe-99aa-4916-8080-2bab98a9dc35",
   "metadata": {},
   "outputs": [
    {
     "name": "stdout",
     "output_type": "stream",
     "text": [
      "<class 'pandas.core.frame.DataFrame'>\n",
      "RangeIndex: 851402 entries, 0 to 851401\n",
      "Data columns (total 18 columns):\n",
      " #   Column                     Non-Null Count   Dtype \n",
      "---  ------                     --------------   ----- \n",
      " 0   Product Id                 851402 non-null  int64 \n",
      " 1   Company                    851402 non-null  object\n",
      " 2   Brand                      851162 non-null  object\n",
      " 3   Product Name               851402 non-null  object\n",
      " 4   Variant                    230574 non-null  object\n",
      " 5   Product Discontinued Date  45794 non-null   object\n",
      " 6   Product Submitted Date     851402 non-null  object\n",
      " 7   Ingredient Name            851402 non-null  object\n",
      " 8   Function                   731365 non-null  object\n",
      " 9   Unit of Measure            300662 non-null  object\n",
      " 10  Concentration              302952 non-null  object\n",
      " 11  Ingredient Submitted Date  851402 non-null  object\n",
      " 12  Ingredient Removed Date    10642 non-null   object\n",
      " 13  UPC                        851289 non-null  object\n",
      " 14  Body Area                  844399 non-null  object\n",
      " 15  Product Category           851402 non-null  object\n",
      " 16  Product Form               840129 non-null  object\n",
      " 17  Intended Market            851381 non-null  object\n",
      "dtypes: int64(1), object(17)\n",
      "memory usage: 116.9+ MB\n"
     ]
    }
   ],
   "source": [
    "cosmetics2.info()"
   ]
  },
  {
   "cell_type": "code",
   "execution_count": 53,
   "id": "0f4ad755-5c0b-4064-9a85-bb524a0fdbfd",
   "metadata": {},
   "outputs": [
    {
     "data": {
      "text/plain": [
       "Product Id                        0\n",
       "Company                           0\n",
       "Brand                           240\n",
       "Product Name                      0\n",
       "Variant                      620828\n",
       "Product Discontinued Date    805608\n",
       "Product Submitted Date            0\n",
       "Ingredient Name                   0\n",
       "Function                     120037\n",
       "Unit of Measure              550740\n",
       "Concentration                548450\n",
       "Ingredient Submitted Date         0\n",
       "Ingredient Removed Date      840760\n",
       "UPC                             113\n",
       "Body Area                      7003\n",
       "Product Category                  0\n",
       "Product Form                  11273\n",
       "Intended Market                  21\n",
       "dtype: int64"
      ]
     },
     "execution_count": 53,
     "metadata": {},
     "output_type": "execute_result"
    }
   ],
   "source": [
    "cosmetics2.isna().sum()"
   ]
  },
  {
   "cell_type": "code",
   "execution_count": 54,
   "id": "5c5a9b65-bd73-4440-a72a-2c553df67901",
   "metadata": {},
   "outputs": [
    {
     "data": {
      "text/plain": [
       "Brand\n",
       "Bath & Body Works                63192\n",
       "Victoria's Secret Beauty         22633\n",
       "GIORGIO ARMANI                   22616\n",
       "The White Company                16006\n",
       "Lancome                          13622\n",
       "                                 ...  \n",
       "Rite Aid Sensitive Toothpaste        1\n",
       "CANDY COLOR                          1\n",
       "RITUELS BOTAN. BODY                  1\n",
       "Calvin Klein Man                     1\n",
       " Entity Nudite                       1\n",
       "Name: count, Length: 3744, dtype: int64"
      ]
     },
     "execution_count": 54,
     "metadata": {},
     "output_type": "execute_result"
    }
   ],
   "source": [
    "cosmetics2['Brand'].value_counts()"
   ]
  },
  {
   "cell_type": "code",
   "execution_count": 55,
   "id": "c4f47e85-28a1-49a5-8085-63aaaf7975dc",
   "metadata": {},
   "outputs": [
    {
     "name": "stdout",
     "output_type": "stream",
     "text": [
      "<class 'pandas.core.frame.DataFrame'>\n",
      "RangeIndex: 114635 entries, 0 to 114634\n",
      "Data columns (total 14 columns):\n",
      " #   Column                  Non-Null Count   Dtype \n",
      "---  ------                  --------------   ----- \n",
      " 0   ProductName             114635 non-null  object\n",
      " 1   CompanyName             114635 non-null  object\n",
      " 2   BrandName               114408 non-null  object\n",
      " 3   PrimaryCategory         114635 non-null  object\n",
      " 4   SubCategory             114635 non-null  object\n",
      " 5   ChemicalName            114635 non-null  object\n",
      " 6   InitialDateReported     114635 non-null  object\n",
      " 7   MostRecentDateReported  114635 non-null  object\n",
      " 8   DiscontinuedDate        12920 non-null   object\n",
      " 9   ChemicalCreatedAt       114635 non-null  object\n",
      " 10  ChemicalUpdatedAt       114635 non-null  object\n",
      " 11  ChemicalDateRemoved     2985 non-null    object\n",
      " 12  ChemicalCount           114635 non-null  int64 \n",
      " 13  Titanium_dioxide        114635 non-null  object\n",
      "dtypes: int64(1), object(13)\n",
      "memory usage: 12.2+ MB\n"
     ]
    }
   ],
   "source": [
    "cosmetics3.info()"
   ]
  },
  {
   "cell_type": "code",
   "execution_count": 56,
   "id": "03b05774-7e69-4ff0-9e44-109194cf8cff",
   "metadata": {},
   "outputs": [
    {
     "data": {
      "text/plain": [
       "ProductName                    0\n",
       "CompanyName                    0\n",
       "BrandName                    227\n",
       "PrimaryCategory                0\n",
       "SubCategory                    0\n",
       "ChemicalName                   0\n",
       "InitialDateReported            0\n",
       "MostRecentDateReported         0\n",
       "DiscontinuedDate          101715\n",
       "ChemicalCreatedAt              0\n",
       "ChemicalUpdatedAt              0\n",
       "ChemicalDateRemoved       111650\n",
       "ChemicalCount                  0\n",
       "Titanium_dioxide               0\n",
       "dtype: int64"
      ]
     },
     "execution_count": 56,
     "metadata": {},
     "output_type": "execute_result"
    }
   ],
   "source": [
    "cosmetics3.isna().sum()"
   ]
  },
  {
   "cell_type": "code",
   "execution_count": 57,
   "id": "e6f4a243-8d2e-4b68-b622-a8a566156797",
   "metadata": {},
   "outputs": [
    {
     "data": {
      "text/plain": [
       "BrandName\n",
       "SEPHORA               3394\n",
       "NYX                   3227\n",
       "bareMinerals          3158\n",
       "Charlotte Tilbury     2453\n",
       "Revlon                2335\n",
       "                      ... \n",
       "Ayur SPF 30              1\n",
       "Sears                    1\n",
       "53 Elegant Rubin         1\n",
       "Yoanna Warm Sunset       1\n",
       "Ruby Kisses              1\n",
       "Name: count, Length: 2713, dtype: int64"
      ]
     },
     "execution_count": 57,
     "metadata": {},
     "output_type": "execute_result"
    }
   ],
   "source": [
    "cosmetics3['BrandName'].value_counts()"
   ]
  },
  {
   "cell_type": "code",
   "execution_count": 58,
   "id": "454c6732-994a-4f2c-b5f8-6e472e2ab79e",
   "metadata": {},
   "outputs": [
    {
     "data": {
      "text/plain": [
       "array(['AVON', \"Glover's\", 'OPI', ..., 'sulwhasoo ', 'HAIR FOOD',\n",
       "       'YANBAL'], dtype=object)"
      ]
     },
     "execution_count": 58,
     "metadata": {},
     "output_type": "execute_result"
    }
   ],
   "source": [
    "cosmetics3['BrandName'].unique()"
   ]
  }
 ],
 "metadata": {
  "kernelspec": {
   "display_name": "Python 3 (ipykernel)",
   "language": "python",
   "name": "python3"
  },
  "language_info": {
   "codemirror_mode": {
    "name": "ipython",
    "version": 3
   },
   "file_extension": ".py",
   "mimetype": "text/x-python",
   "name": "python",
   "nbconvert_exporter": "python",
   "pygments_lexer": "ipython3",
   "version": "3.12.4"
  }
 },
 "nbformat": 4,
 "nbformat_minor": 5
}
